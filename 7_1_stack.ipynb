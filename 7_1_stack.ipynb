{
  "nbformat": 4,
  "nbformat_minor": 0,
  "metadata": {
    "colab": {
      "name": "7.1_stack.ipynb",
      "provenance": [],
      "authorship_tag": "ABX9TyPxCzprlneMiR1QS45I3nkB",
      "include_colab_link": true
    },
    "kernelspec": {
      "name": "python3",
      "display_name": "Python 3"
    },
    "language_info": {
      "name": "python"
    }
  },
  "cells": [
    {
      "cell_type": "markdown",
      "metadata": {
        "id": "view-in-github",
        "colab_type": "text"
      },
      "source": [
        "<a href=\"https://colab.research.google.com/github/lala991204/DL-self-study/blob/master/7_1_stack.ipynb\" target=\"_parent\"><img src=\"https://colab.research.google.com/assets/colab-badge.svg\" alt=\"Open In Colab\"/></a>"
      ]
    },
    {
      "cell_type": "markdown",
      "source": [
        "추상 데이터 타입(ADT)은 유사한 동작을 가진 자료구조의 클래스에 대한 수학적 모델을 가리킨다. 많은 추상 데이터 타입은 각기 클래스는 다르지만, 기능적으로는 동일하게 구현된 자료구조를 가질 수 있다."
      ],
      "metadata": {
        "id": "zd5nPckK5w-g"
      }
    },
    {
      "cell_type": "markdown",
      "source": [
        "자료구조는 크게 배열 기반의 연속 방식과 포인터 기반의 연결 방식으로 분류한다."
      ],
      "metadata": {
        "id": "MyxI9zOA6EFW"
      }
    },
    {
      "cell_type": "markdown",
      "source": [
        "stack은 후입선출(LIFO) 구조이며 시간복잡도는 모두 O(1)이다."
      ],
      "metadata": {
        "id": "HrT1Dbff647j"
      }
    },
    {
      "cell_type": "code",
      "execution_count": 4,
      "metadata": {
        "colab": {
          "base_uri": "https://localhost:8080/"
        },
        "id": "r4j-v_9A2qWM",
        "outputId": "5062bfb1-5b67-49b9-9f44-2d90911524aa"
      },
      "outputs": [
        {
          "output_type": "stream",
          "name": "stdout",
          "text": [
            "스택이 비었나요? True\n",
            "스택에 숫자 0~9를 추가합니다.\n",
            "스택 크기: 10\n",
            "peek: 9\n",
            "pop: 9\n",
            "peek: 8\n",
            "스택이 비었나요? False\n",
            "[0, 1, 2, 3, 4, 5, 6, 7, 8]\n"
          ]
        }
      ],
      "source": [
        "# 파이썬 리스트의 append()와 pop() 메서드 이용\n",
        "\n",
        "class Stack(object):\n",
        "    def __init__(self):\n",
        "      self.items = []\n",
        "\n",
        "    def isEmpty(self):          ## 스택이 비어 있는지 확인\n",
        "         return not bool(self.items)\n",
        "    \n",
        "    def push(self, value):       ## 스택 맨 끝(위)에 항목 삽입\n",
        "        self.items.append(value)\n",
        "    \n",
        "    def pop(self):               ## 스택 맨 끝 항목을 반환하는 동시에 제거\n",
        "        value = self.items.pop()\n",
        "        if value is not None:   \n",
        "            return value\n",
        "        else:\n",
        "            print(\"Stack is empty.\")\n",
        "    \n",
        "    def size(self):             ## 스택 크기 확인\n",
        "        return len(self.items)\n",
        "    \n",
        "    def peek(self):             ## 스택 맨 끝 항목 조회(top/peek)\n",
        "        if self.items:\n",
        "            return self.items[-1]\n",
        "        else:\n",
        "            print(\"Stack is empty.\")\n",
        "    \n",
        "    def __repr__(self):\n",
        "        return repr(self.items)\n",
        "\n",
        "\n",
        "if __name__ == \"__main__\":\n",
        "    stack = Stack()\n",
        "    print(\"스택이 비었나요? {0}\".format(stack.isEmpty()))\n",
        "    print(\"스택에 숫자 0~9를 추가합니다.\")\n",
        "    for i in range(10):\n",
        "        stack.push(i)\n",
        "    print(\"스택 크기: {0}\".format(stack.size()))\n",
        "    print(\"peek: {0}\".format(stack.peek()))\n",
        "    print(\"pop: {0}\".format(stack.pop()))\n",
        "    print(\"peek: {0}\".format(stack.peek()))\n",
        "    print(\"스택이 비었나요? {0}\".format(stack.isEmpty()))\n",
        "    print(stack)"
      ]
    },
    {
      "cell_type": "code",
      "source": [
        ""
      ],
      "metadata": {
        "id": "NLoF3ljS5XLl"
      },
      "execution_count": null,
      "outputs": []
    }
  ]
}