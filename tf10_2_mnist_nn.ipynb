{
  "nbformat": 4,
  "nbformat_minor": 0,
  "metadata": {
    "colab": {
      "name": "tf10-2-mnist_nn.ipynb",
      "provenance": [],
      "authorship_tag": "ABX9TyPGrX0PXu62nBgms3TryggQ",
      "include_colab_link": true
    },
    "kernelspec": {
      "name": "python3",
      "display_name": "Python 3"
    },
    "language_info": {
      "name": "python"
    }
  },
  "cells": [
    {
      "cell_type": "markdown",
      "metadata": {
        "id": "view-in-github",
        "colab_type": "text"
      },
      "source": [
        "<a href=\"https://colab.research.google.com/github/lala991204/DL-self-study/blob/master/tf10_2_mnist_nn.ipynb\" target=\"_parent\"><img src=\"https://colab.research.google.com/assets/colab-badge.svg\" alt=\"Open In Colab\"/></a>"
      ]
    },
    {
      "cell_type": "code",
      "execution_count": 5,
      "metadata": {
        "colab": {
          "base_uri": "https://localhost:8080/"
        },
        "id": "5F5ZRPb5N3Eh",
        "outputId": "9735c84f-af89-4abd-95c1-0b13f1a3661a"
      },
      "outputs": [
        {
          "output_type": "stream",
          "name": "stdout",
          "text": [
            "(60000, 28, 28)\n",
            "Model: \"sequential_3\"\n",
            "_________________________________________________________________\n",
            " Layer (type)                Output Shape              Param #   \n",
            "=================================================================\n",
            " dense_9 (Dense)             (None, 256)               200960    \n",
            "                                                                 \n",
            " dense_10 (Dense)            (None, 256)               65792     \n",
            "                                                                 \n",
            " dense_11 (Dense)            (None, 10)                2570      \n",
            "                                                                 \n",
            "=================================================================\n",
            "Total params: 269,322\n",
            "Trainable params: 269,322\n",
            "Non-trainable params: 0\n",
            "_________________________________________________________________\n",
            "Epoch 1/15\n"
          ]
        },
        {
          "output_type": "stream",
          "name": "stderr",
          "text": [
            "/usr/local/lib/python3.7/dist-packages/keras/optimizer_v2/adam.py:105: UserWarning: The `lr` argument is deprecated, use `learning_rate` instead.\n",
            "  super(Adam, self).__init__(name, **kwargs)\n"
          ]
        },
        {
          "output_type": "stream",
          "name": "stdout",
          "text": [
            "600/600 [==============================] - 5s 7ms/step - loss: 2.1885 - accuracy: 0.8932\n",
            "Epoch 2/15\n",
            "600/600 [==============================] - 4s 7ms/step - loss: 0.3852 - accuracy: 0.9453\n",
            "Epoch 3/15\n",
            "600/600 [==============================] - 4s 6ms/step - loss: 0.2529 - accuracy: 0.9557\n",
            "Epoch 4/15\n",
            "600/600 [==============================] - 4s 7ms/step - loss: 0.1877 - accuracy: 0.9639\n",
            "Epoch 5/15\n",
            "600/600 [==============================] - 4s 7ms/step - loss: 0.1420 - accuracy: 0.9697\n",
            "Epoch 6/15\n",
            "600/600 [==============================] - 4s 7ms/step - loss: 0.1306 - accuracy: 0.9716\n",
            "Epoch 7/15\n",
            "600/600 [==============================] - 4s 7ms/step - loss: 0.1059 - accuracy: 0.9750\n",
            "Epoch 8/15\n",
            "600/600 [==============================] - 4s 7ms/step - loss: 0.0894 - accuracy: 0.9779\n",
            "Epoch 9/15\n",
            "600/600 [==============================] - 4s 7ms/step - loss: 0.0924 - accuracy: 0.9765\n",
            "Epoch 10/15\n",
            "600/600 [==============================] - 4s 7ms/step - loss: 0.0803 - accuracy: 0.9791\n",
            "Epoch 11/15\n",
            "600/600 [==============================] - 4s 7ms/step - loss: 0.0874 - accuracy: 0.9776\n",
            "Epoch 12/15\n",
            "600/600 [==============================] - 4s 6ms/step - loss: 0.0706 - accuracy: 0.9819\n",
            "Epoch 13/15\n",
            "600/600 [==============================] - 4s 6ms/step - loss: 0.0724 - accuracy: 0.9811\n",
            "Epoch 14/15\n",
            "600/600 [==============================] - 4s 6ms/step - loss: 0.0738 - accuracy: 0.9811\n",
            "Epoch 15/15\n",
            "600/600 [==============================] - 4s 6ms/step - loss: 0.0667 - accuracy: 0.9823\n",
            "index:  3757 actual y:  8 predicted y:  3\n",
            "index:  7304 actual y:  5 predicted y:  5\n",
            "index:  7300 actual y:  7 predicted y:  7\n",
            "index:  6039 actual y:  9 predicted y:  9\n",
            "index:  9429 actual y:  3 predicted y:  3\n",
            "index:  4420 actual y:  5 predicted y:  5\n",
            "index:  5507 actual y:  2 predicted y:  2\n",
            "index:  8809 actual y:  1 predicted y:  1\n",
            "index:  654 actual y:  5 predicted y:  5\n",
            "index:  7302 actual y:  8 predicted y:  8\n",
            "313/313 [==============================] - 1s 2ms/step - loss: 0.1659 - accuracy: 0.9641\n",
            "loss:  0.16590236127376556\n",
            "accuracy 0.9641000032424927\n"
          ]
        }
      ],
      "source": [
        "import numpy as np\n",
        "import random\n",
        "import tensorflow as tf\n",
        "\n",
        "random.seed(777)     # for reproducibility\n",
        "learning_rate = 0.001\n",
        "batch_size = 100\n",
        "training_epochs = 15\n",
        "nb_classes = 10\n",
        "\n",
        "(x_train, y_train), (x_test2, y_test) = tf.keras.datasets.mnist.load_data()\n",
        "print(x_train.shape)\n",
        "\n",
        "x_train = x_train.reshape(x_train.shape[0], 28*28)\n",
        "x_test = x_test2.reshape(x_test2.shape[0], 28*28)\n",
        "\n",
        "y_train = tf.keras.utils.to_categorical(y_train, nb_classes)\n",
        "y_test = tf.keras.utils.to_categorical(y_test, nb_classes)\n",
        "\n",
        "tf.model = tf.keras.Sequential()\n",
        "tf.model.add(tf.keras.layers.Dense(input_dim=784, units=256, activation='relu'))\n",
        "tf.model.add(tf.keras.layers.Dense(units=256, activation='relu'))\n",
        "tf.model.add(tf.keras.layers.Dense(units=nb_classes, activation='softmax'))\n",
        "tf.model.compile(loss='categorical_crossentropy', optimizer=tf.keras.optimizers.Adam(lr=learning_rate),\n",
        "                 metrics=['accuracy'])\n",
        "tf.model.summary()\n",
        "\n",
        "tf.model.fit(x_train, y_train, batch_size=batch_size, epochs=training_epochs)\n",
        "\n",
        "\n",
        "# predict 10 random hand-writing data\n",
        "y_predicted = tf.model.predict(x_test)\n",
        "for x in range(0, 10):\n",
        "    random_index = random.randint(0, x_test.shape[0]-1)\n",
        "    print(\"index: \", random_index,\n",
        "          \"actual y: \", np.argmax(y_test[random_index]),\n",
        "          \"predicted y: \", np.argmax(y_predicted[random_index]))\n",
        "    \n",
        "# evaluate test set\n",
        "evaluation = tf.model.evaluate(x_test, y_test)\n",
        "print('loss: ', evaluation[0])\n",
        "print('accuracy', evaluation[1])"
      ]
    },
    {
      "cell_type": "code",
      "source": [
        ""
      ],
      "metadata": {
        "id": "34fH4zsggGDa"
      },
      "execution_count": null,
      "outputs": []
    }
  ]
}