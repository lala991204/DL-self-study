{
  "nbformat": 4,
  "nbformat_minor": 0,
  "metadata": {
    "colab": {
      "name": "tf10-5-mnist_nn_dropout.ipynb",
      "provenance": [],
      "authorship_tag": "ABX9TyNTWLv0uEFfe32jFMWS+yoJ",
      "include_colab_link": true
    },
    "kernelspec": {
      "name": "python3",
      "display_name": "Python 3"
    },
    "language_info": {
      "name": "python"
    }
  },
  "cells": [
    {
      "cell_type": "markdown",
      "metadata": {
        "id": "view-in-github",
        "colab_type": "text"
      },
      "source": [
        "<a href=\"https://colab.research.google.com/github/lala991204/DL-self-study/blob/master/tf10_5_mnist_nn_dropout.ipynb\" target=\"_parent\"><img src=\"https://colab.research.google.com/assets/colab-badge.svg\" alt=\"Open In Colab\"/></a>"
      ]
    },
    {
      "cell_type": "markdown",
      "source": [
        "앞의 코드에서 dropout부분만 추가"
      ],
      "metadata": {
        "id": "2KXys9u5b-0g"
      }
    },
    {
      "cell_type": "code",
      "execution_count": 1,
      "metadata": {
        "colab": {
          "base_uri": "https://localhost:8080/"
        },
        "id": "-flCkludbNSb",
        "outputId": "8ddb3cd4-35cf-4d10-e868-0caeffe4bbfb"
      },
      "outputs": [
        {
          "output_type": "stream",
          "name": "stdout",
          "text": [
            "Downloading data from https://storage.googleapis.com/tensorflow/tf-keras-datasets/mnist.npz\n",
            "11493376/11490434 [==============================] - 0s 0us/step\n",
            "11501568/11490434 [==============================] - 0s 0us/step\n",
            "(60000, 28, 28)\n"
          ]
        },
        {
          "output_type": "stream",
          "name": "stderr",
          "text": [
            "/usr/local/lib/python3.7/dist-packages/keras/optimizer_v2/adam.py:105: UserWarning: The `lr` argument is deprecated, use `learning_rate` instead.\n",
            "  super(Adam, self).__init__(name, **kwargs)\n"
          ]
        },
        {
          "output_type": "stream",
          "name": "stdout",
          "text": [
            "Model: \"sequential\"\n",
            "_________________________________________________________________\n",
            " Layer (type)                Output Shape              Param #   \n",
            "=================================================================\n",
            " dense (Dense)               (None, 512)               401920    \n",
            "                                                                 \n",
            " dropout (Dropout)           (None, 512)               0         \n",
            "                                                                 \n",
            " dense_1 (Dense)             (None, 512)               262656    \n",
            "                                                                 \n",
            " dropout_1 (Dropout)         (None, 512)               0         \n",
            "                                                                 \n",
            " dense_2 (Dense)             (None, 512)               262656    \n",
            "                                                                 \n",
            " dropout_2 (Dropout)         (None, 512)               0         \n",
            "                                                                 \n",
            " dense_3 (Dense)             (None, 512)               262656    \n",
            "                                                                 \n",
            " dropout_3 (Dropout)         (None, 512)               0         \n",
            "                                                                 \n",
            " dense_4 (Dense)             (None, 10)                5130      \n",
            "                                                                 \n",
            "=================================================================\n",
            "Total params: 1,195,018\n",
            "Trainable params: 1,195,018\n",
            "Non-trainable params: 0\n",
            "_________________________________________________________________\n",
            "Epoch 1/15\n",
            "600/600 [==============================] - 20s 30ms/step - loss: 1.8854 - accuracy: 0.7642\n",
            "Epoch 2/15\n",
            "600/600 [==============================] - 14s 24ms/step - loss: 0.3743 - accuracy: 0.8962\n",
            "Epoch 3/15\n",
            "600/600 [==============================] - 14s 24ms/step - loss: 0.2787 - accuracy: 0.9237\n",
            "Epoch 4/15\n",
            "600/600 [==============================] - 14s 24ms/step - loss: 0.2324 - accuracy: 0.9365\n",
            "Epoch 5/15\n",
            "600/600 [==============================] - 15s 24ms/step - loss: 0.2070 - accuracy: 0.9443\n",
            "Epoch 6/15\n",
            "600/600 [==============================] - 15s 25ms/step - loss: 0.1828 - accuracy: 0.9508\n",
            "Epoch 7/15\n",
            "600/600 [==============================] - 14s 24ms/step - loss: 0.1915 - accuracy: 0.9501\n",
            "Epoch 8/15\n",
            "600/600 [==============================] - 14s 24ms/step - loss: 0.1841 - accuracy: 0.9522\n",
            "Epoch 9/15\n",
            "600/600 [==============================] - 14s 24ms/step - loss: 0.1784 - accuracy: 0.9547\n",
            "Epoch 10/15\n",
            "600/600 [==============================] - 14s 24ms/step - loss: 0.1776 - accuracy: 0.9554\n",
            "Epoch 11/15\n",
            "600/600 [==============================] - 16s 26ms/step - loss: 0.1716 - accuracy: 0.9567\n",
            "Epoch 12/15\n",
            "600/600 [==============================] - 14s 24ms/step - loss: 0.1726 - accuracy: 0.9579\n",
            "Epoch 13/15\n",
            "600/600 [==============================] - 14s 24ms/step - loss: 0.1640 - accuracy: 0.9608\n",
            "Epoch 14/15\n",
            "600/600 [==============================] - 15s 24ms/step - loss: 0.1667 - accuracy: 0.9606\n",
            "Epoch 15/15\n",
            "600/600 [==============================] - 15s 24ms/step - loss: 0.1649 - accuracy: 0.9620\n",
            "index:  3757 actual y:  8 predicted y:  3\n",
            "index:  7304 actual y:  5 predicted y:  5\n",
            "index:  7300 actual y:  7 predicted y:  7\n",
            "index:  6039 actual y:  9 predicted y:  9\n",
            "index:  9429 actual y:  3 predicted y:  3\n",
            "index:  4420 actual y:  5 predicted y:  5\n",
            "index:  5507 actual y:  2 predicted y:  2\n",
            "index:  8809 actual y:  1 predicted y:  1\n",
            "index:  654 actual y:  5 predicted y:  5\n",
            "index:  7302 actual y:  8 predicted y:  8\n",
            "313/313 [==============================] - 2s 5ms/step - loss: 0.1419 - accuracy: 0.9712\n",
            "loss:  0.1419421285390854\n",
            "accuracy 0.9711999893188477\n"
          ]
        }
      ],
      "source": [
        "import numpy as np\n",
        "import random\n",
        "import tensorflow as tf\n",
        "\n",
        "random.seed(777)  # for reproducibility\n",
        "learning_rate = 0.001\n",
        "batch_size = 100\n",
        "training_epochs = 15\n",
        "nb_classes = 10\n",
        "drop_rate = 0.3        # keep_prob\n",
        "\n",
        "(x_train, y_train), (x_test, y_test) = tf.keras.datasets.mnist.load_data()\n",
        "print(x_train.shape)\n",
        "\n",
        "x_train = x_train.reshape(x_train.shape[0], 28 * 28)\n",
        "x_test = x_test.reshape(x_test.shape[0], 28 * 28)\n",
        "\n",
        "y_train = tf.keras.utils.to_categorical(y_train, nb_classes)\n",
        "y_test = tf.keras.utils.to_categorical(y_test, nb_classes)\n",
        "\n",
        "tf.model = tf.keras.Sequential()\n",
        "\n",
        "# Glorot normal initializer, also called Xavier normal initializer.\n",
        "tf.model.add(tf.keras.layers.Dense(input_dim=784, units=512, kernel_initializer='glorot_normal', activation='relu'))\n",
        "tf.model.add(tf.keras.layers.Dropout(drop_rate))\n",
        "tf.model.add(tf.keras.layers.Dense(units=512, kernel_initializer='glorot_normal', activation='relu'))\n",
        "tf.model.add(tf.keras.layers.Dropout(drop_rate))\n",
        "tf.model.add(tf.keras.layers.Dense(units=512, kernel_initializer='glorot_normal', activation='relu'))\n",
        "tf.model.add(tf.keras.layers.Dropout(drop_rate))\n",
        "tf.model.add(tf.keras.layers.Dense(units=512, kernel_initializer='glorot_normal', activation='relu'))\n",
        "tf.model.add(tf.keras.layers.Dropout(drop_rate))\n",
        "tf.model.add(tf.keras.layers.Dense(units=nb_classes, kernel_initializer='glorot_normal', activation='softmax'))\n",
        "tf.model.compile(loss='categorical_crossentropy',\n",
        "                 optimizer=tf.keras.optimizers.Adam(lr=learning_rate), metrics=['accuracy'])\n",
        "tf.model.summary()\n",
        "\n",
        "history = tf.model.fit(x_train, y_train, batch_size=batch_size, epochs=training_epochs)\n",
        "\n",
        "# predict 10 random hand-writing data\n",
        "y_predicted = tf.model.predict(x_test)\n",
        "for x in range(0, 10):\n",
        "    random_index = random.randint(0, x_test.shape[0]-1)\n",
        "    print(\"index: \", random_index,\n",
        "          \"actual y: \", np.argmax(y_test[random_index]),\n",
        "          \"predicted y: \", np.argmax(y_predicted[random_index]))\n",
        "\n",
        "# evaluate test set\n",
        "evaluation = tf.model.evaluate(x_test, y_test)\n",
        "print('loss: ', evaluation[0])\n",
        "print('accuracy', evaluation[1])"
      ]
    },
    {
      "cell_type": "markdown",
      "source": [
        "97%로 정확도 상승"
      ],
      "metadata": {
        "id": "rrQFaeYIc98M"
      }
    },
    {
      "cell_type": "code",
      "source": [
        ""
      ],
      "metadata": {
        "id": "7Tz5zoM3b1k5"
      },
      "execution_count": null,
      "outputs": []
    }
  ]
}