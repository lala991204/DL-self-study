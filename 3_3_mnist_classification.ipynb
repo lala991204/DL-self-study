{
  "nbformat": 4,
  "nbformat_minor": 0,
  "metadata": {
    "colab": {
      "name": "3.3_mnist_classification.ipynb",
      "provenance": [],
      "collapsed_sections": [],
      "toc_visible": true,
      "authorship_tag": "ABX9TyNxei+CLX6OFZNKjbaCCL0k",
      "include_colab_link": true
    },
    "kernelspec": {
      "name": "python3",
      "display_name": "Python 3"
    },
    "language_info": {
      "name": "python"
    }
  },
  "cells": [
    {
      "cell_type": "markdown",
      "metadata": {
        "id": "view-in-github",
        "colab_type": "text"
      },
      "source": [
        "<a href=\"https://colab.research.google.com/github/lala991204/DL-self-study/blob/master/3_3_mnist_classification.ipynb\" target=\"_parent\"><img src=\"https://colab.research.google.com/assets/colab-badge.svg\" alt=\"Open In Colab\"/></a>"
      ]
    },
    {
      "cell_type": "code",
      "source": [
        "import tensorflow as tf\n",
        "import matplotlib.pyplot as plt\n",
        "import numpy as np"
      ],
      "metadata": {
        "id": "X7acOD8f5adJ"
      },
      "execution_count": null,
      "outputs": []
    },
    {
      "cell_type": "code",
      "execution_count": null,
      "metadata": {
        "colab": {
          "base_uri": "https://localhost:8080/"
        },
        "id": "vra7lX7_4Sun",
        "outputId": "2e7233a6-5fed-4c2c-853d-8caa876e7afc"
      },
      "outputs": [
        {
          "output_type": "stream",
          "name": "stdout",
          "text": [
            "Downloading data from https://storage.googleapis.com/tensorflow/tf-keras-datasets/mnist.npz\n",
            "11493376/11490434 [==============================] - 0s 0us/step\n",
            "11501568/11490434 [==============================] - 0s 0us/step\n"
          ]
        }
      ],
      "source": [
        "# 케라스의 내장 데이터셋에서 mnist dataset load\n",
        "mnist = tf.keras.datasets.mnist\n",
        "\n",
        "# load_data()로 데이터셋 로드\n",
        "(x_train, y_train), (x_test, y_test) = mnist.load_data()"
      ]
    },
    {
      "cell_type": "code",
      "source": [
        "# 로드된 데이터셋 확인\n",
        "print('train set:', x_train.shape, y_train.shape)     # 데이터셋의 크기, 이미지의 세로/가로의 픽셀 크기\n",
        "print('test set:', x_test.shape, y_test.shape)"
      ],
      "metadata": {
        "colab": {
          "base_uri": "https://localhost:8080/"
        },
        "id": "VzWWB9H54yxc",
        "outputId": "a41dbd26-e3d6-4e7d-85cf-7e58bd3b79b1"
      },
      "execution_count": null,
      "outputs": [
        {
          "output_type": "stream",
          "name": "stdout",
          "text": [
            "train set: (60000, 28, 28) (60000,)\n",
            "test set: (10000, 28, 28) (10000,)\n"
          ]
        }
      ]
    },
    {
      "cell_type": "code",
      "source": [
        "# 데이터 시각화(trainset의 처음 15장에 대한)\n",
        "\n",
        "# canvas 생성\n",
        "fig, axes = plt.subplots(3, 5)\n",
        "fig.set_size_inches(8, 5)        # 각각 그림의 너비와 높이를 인치 단위로 나타냄\n",
        "\n",
        "for i in range(15):\n",
        "    ax = axes[i//5, i%5]      # 몫과 나머지로 자리 분배\n",
        "    ax.imshow(x_train[i], cmap='gray')\n",
        "    ax.axis('off')       # 축 표시 안 함\n",
        "    ax.set_title(str(y_train[i]))   # 각 그림 상단에 label 표시\n",
        "\n",
        "plt.tight_layout()         # 서브 플롯간에 올바른 간격을 자동으로 유지하게 함\n",
        "plt.show()"
      ],
      "metadata": {
        "colab": {
          "base_uri": "https://localhost:8080/",
          "height": 371
        },
        "id": "F4ix4vRJ5GrT",
        "outputId": "5251ce5d-d744-43ac-e1a0-128cf3f88e81"
      },
      "execution_count": null,
      "outputs": [
        {
          "output_type": "display_data",
          "data": {
            "text/plain": [
              "<Figure size 576x360 with 15 Axes>"
            ],
            "image/png": "[encoded data removed]"
          },
          "metadata": {
            "needs_background": "light"
          }
        }
      ]
    },
    {
      "cell_type": "markdown",
      "source": [
        "# Data Prepocessing"
      ],
      "metadata": {
        "id": "9g9LISyT7oDC"
      }
    },
    {
      "cell_type": "code",
      "source": [
        "# x_train 배열의 데이터 확인(각 원소는 이미지를 구성하는 하나의 픽셀 값과 일대일 매칭)\n",
        "x_train[0, 10:15, 10:15]"
      ],
      "metadata": {
        "colab": {
          "base_uri": "https://localhost:8080/"
        },
        "id": "eCKCzwHN6DWr",
        "outputId": "f4477229-2839-4e73-cf07-8e6dc20e69b9"
      },
      "execution_count": null,
      "outputs": [
        {
          "output_type": "execute_result",
          "data": {
            "text/plain": [
              "array([[  1, 154, 253,  90,   0],\n",
              "       [  0, 139, 253, 190,   2],\n",
              "       [  0,  11, 190, 253,  70],\n",
              "       [  0,   0,  35, 241, 225],\n",
              "       [  0,   0,   0,  81, 240]], dtype=uint8)"
            ]
          },
          "metadata": {},
          "execution_count": 9
        }
      ]
    },
    {
      "cell_type": "code",
      "source": [
        "# 픽셀 값의 최소/최대값 확인\n",
        "print(f'정규화 전] 최소값: {x_train.min()}, 최대값: {x_train.max()}')\n",
        "\n",
        "# 데이터 정규화(데이터 값 0~1로)\n",
        "x_train = x_train / x_train.max()\n",
        "\n",
        "# 정규화 후 최소/최대값 확인\n",
        "print(f'정규화 후] 최소값: {x_train.min()}, 최대값: {x_train.max()}')"
      ],
      "metadata": {
        "colab": {
          "base_uri": "https://localhost:8080/"
        },
        "id": "yJBnOw3p6OOJ",
        "outputId": "f52ce0b7-f994-4db1-e665-a8905dd4244e"
      },
      "execution_count": null,
      "outputs": [
        {
          "output_type": "stream",
          "name": "stdout",
          "text": [
            "정규화 전] 최소값: 0, 최대값: 255\n",
            "정규화 후] 최소값: 0.0, 최대값: 1.0\n"
          ]
        }
      ]
    },
    {
      "cell_type": "code",
      "source": [
        "# test set에도 정규화 동일 적용\n",
        "x_test = x_test / x_test.max()\n",
        "\n",
        "# 변환 후 x_train 배열의 데이터 확인\n",
        "x_train[0, 10:15, 10:15]"
      ],
      "metadata": {
        "colab": {
          "base_uri": "https://localhost:8080/"
        },
        "id": "XRNWnUFA62jL",
        "outputId": "cc6ea235-b535-40af-fc59-d84077654a13"
      },
      "execution_count": null,
      "outputs": [
        {
          "output_type": "execute_result",
          "data": {
            "text/plain": [
              "array([[0.00392157, 0.60392157, 0.99215686, 0.35294118, 0.        ],\n",
              "       [0.        , 0.54509804, 0.99215686, 0.74509804, 0.00784314],\n",
              "       [0.        , 0.04313725, 0.74509804, 0.99215686, 0.2745098 ],\n",
              "       [0.        , 0.        , 0.1372549 , 0.94509804, 0.88235294],\n",
              "       [0.        , 0.        , 0.        , 0.31764706, 0.94117647]])"
            ]
          },
          "metadata": {},
          "execution_count": 12
        }
      ]
    },
    {
      "cell_type": "markdown",
      "source": [
        "정규화하는 이유: input data가 정규화되어 모델이 학습하는 경우에 경사하강법 알고리즘에 의한 수렴 속도가 비정규화된 input data를 가질 때보다 더 빨리 수렴하기 때문/ local optimum에 빠지는 현상 방지"
      ],
      "metadata": {
        "id": "22C1nivm5udU"
      }
    },
    {
      "cell_type": "markdown",
      "source": [
        "# Flatten layer & Activation Function"
      ],
      "metadata": {
        "id": "91rUF9z87tyj"
      }
    },
    {
      "cell_type": "markdown",
      "source": [
        "Dense layer에는 input value로 반드시 1D-array가 들어가야 한다."
      ],
      "metadata": {
        "id": "-dsQ6Hsi6V0o"
      }
    },
    {
      "cell_type": "code",
      "source": [
        "print(f'변경 전 shape: {x_train.shape}')\n",
        "print(f'1D으로 shape 변경 후: {x_train.reshape(60000, -1).shape}')\n",
        "\n",
        "print(f'변경 전 shape: {x_train.shape}')\n",
        "\n",
        "# Flatten layer 적용 후 shape 확인\n",
        "print(f'Flatten 적용 후: {tf.keras.layers.Flatten()(x_train).shape}')"
      ],
      "metadata": {
        "colab": {
          "base_uri": "https://localhost:8080/"
        },
        "id": "8b3Knga269Wj",
        "outputId": "efd60eec-eeb5-4589-a4b6-a0d0509d8910"
      },
      "execution_count": null,
      "outputs": [
        {
          "output_type": "stream",
          "name": "stdout",
          "text": [
            "변경 전 shape: (60000, 28, 28)\n",
            "1D으로 shape 변경 후: (60000, 784)\n",
            "변경 전 shape: (60000, 28, 28)\n",
            "Flatten 적용 후: (60000, 784)\n"
          ]
        }
      ]
    },
    {
      "cell_type": "markdown",
      "source": [
        "Activation Function은 input을 nonlinear output으로 변환해주는 함수이다.\n",
        "비선형성을 추가하지 않고 선형 함수로만 층을 구성한다면 모델을 깊게 구성하더라도 결국은 선형함수로 표현된다.\n",
        "Sigmoid, tanh(Hyperbolic Tangent), ReLU(Rectified Unit), Leaky ReLU 등이 있다."
      ],
      "metadata": {
        "id": "qF_3elh764vY"
      }
    },
    {
      "cell_type": "code",
      "source": [
        "# Dense layer에 relu 활성화 함수를 적용한 경우\n",
        "tf.keras.layers.Dense(128, activation='relu')\n",
        "\n",
        "# Dense layer와 relu 활성화 함수 레이어를 별도 적용한 경우\n",
        "model = tf.keras.Sequential([\n",
        "        tf.keras.layers.Dense(128),\n",
        "        tf.keras.layers.Activation('relu')\n",
        "])"
      ],
      "metadata": {
        "id": "lvpmxnGZ8B7x"
      },
      "execution_count": null,
      "outputs": []
    },
    {
      "cell_type": "markdown",
      "source": [
        "위와 같이 별도의 층으로 적용하는 경우는 Dense layer 다음에 Batch Normalization을 적용한 후 활성화 함수를 적용하고자 할 때 많이 사용된다."
      ],
      "metadata": {
        "id": "aiDAbJjE8YAL"
      }
    },
    {
      "cell_type": "markdown",
      "source": [
        "# Input&Output"
      ],
      "metadata": {
        "id": "axIr9Ao99AHj"
      }
    },
    {
      "cell_type": "markdown",
      "source": [
        "Model의 깊이(layer의 수)와 너비(각 layer 구성하는 노드의 수)에는 정답이 없다. => Hyperparameters"
      ],
      "metadata": {
        "id": "kmvHmt2u9Jys"
      }
    },
    {
      "cell_type": "code",
      "source": [
        "model = tf.keras.Sequential([\n",
        "        tf.keras.layers.Flatten(input_shape=(28,28)),\n",
        "        tf.keras.layers.Dense(256, activation='relu'),\n",
        "        tf.keras.layers.Dense(64, activation='relu'),\n",
        "        tf.keras.layers.Dense(32, activation='relu'),\n",
        "        # 노드 = 10개(클래스 개수와 동일)\n",
        "        tf.keras.layers.Dense(10, activation='softmax')\n",
        "])\n",
        "\n",
        "# 출력층 노드 = 1개인 경우, sigmoid\n",
        "tf.keras.layers.Dense(1, activation='sigmoid')\n",
        "\n",
        "# 출력층 노드 = 2개 이상인 경우, softmax\n",
        "tf.keras.layers.Dense(10, activation='softmax')"
      ],
      "metadata": {
        "colab": {
          "base_uri": "https://localhost:8080/"
        },
        "id": "yWHSt2KE8-77",
        "outputId": "46555758-f829-41f3-e1b5-eab7e13eea2c"
      },
      "execution_count": null,
      "outputs": [
        {
          "output_type": "execute_result",
          "data": {
            "text/plain": [
              "<keras.layers.core.dense.Dense at 0x7f92657964d0>"
            ]
          },
          "metadata": {},
          "execution_count": 18
        }
      ]
    },
    {
      "cell_type": "markdown",
      "source": [
        "# Loss Function & Optimizer & Metrics"
      ],
      "metadata": {
        "id": "bijaUukq-E2X"
      }
    },
    {
      "cell_type": "code",
      "source": [
        "# 이진 분류(출력 노드 개수 = 1, sigmoid인 경우)\n",
        "model.compile(loss='binary_crossentropy')\n",
        "\n",
        "# y가 원핫 벡터인 경우\n",
        "# [0., 0., 0., 0., 0., 1., 0., 0., 0., 0.]\n",
        "model.compile(loss='categorical_crossentropy')\n",
        "\n",
        "# y가 원핫 벡터가 아닌 경우\n",
        "#[5]\n",
        "model.compile(loss='sparse_categorical_crossentropy')"
      ],
      "metadata": {
        "id": "x8C0Cee49tlZ"
      },
      "execution_count": null,
      "outputs": []
    },
    {
      "cell_type": "markdown",
      "source": [
        "optimizer는 loss를 낮추기 위해 신경망의 가중치와 학습률 같은 신경망의 속성을 변경하는데 사용되는 최적화 방법이다. 일반적으로 많이 사용되는 알고리즘은 Adam이다."
      ],
      "metadata": {
        "id": "SLlR_Ii9-gxQ"
      }
    },
    {
      "cell_type": "code",
      "source": [
        "# 클래스 인스턴스로 지정(lr같은 하이퍼파라미터 직접 설정 가능)\n",
        "adam = tf.keras.optimizers.Adam(lr=0.01)\n",
        "model.compile(optimizer=adam)\n",
        "\n",
        "# 문자열로 지정\n",
        "model.compile(optimizer='adam')"
      ],
      "metadata": {
        "colab": {
          "base_uri": "https://localhost:8080/"
        },
        "id": "hXUijjDG-o8A",
        "outputId": "f8022664-17c9-45d4-d41b-841e85617a0c"
      },
      "execution_count": null,
      "outputs": [
        {
          "output_type": "stream",
          "name": "stderr",
          "text": [
            "/usr/local/lib/python3.7/dist-packages/keras/optimizer_v2/adam.py:105: UserWarning: The `lr` argument is deprecated, use `learning_rate` instead.\n",
            "  super(Adam, self).__init__(name, **kwargs)\n"
          ]
        }
      ]
    },
    {
      "cell_type": "markdown",
      "source": [
        "metrics는 'accuracy'가 가장 많이 사용되며 'auc','precision','recall' 등의 지표도 많이 사용된다."
      ],
      "metadata": {
        "id": "VjPjkcTo-8p8"
      }
    },
    {
      "cell_type": "code",
      "source": [
        "# 클래스 인스턴스로 지정\n",
        "acc = tf.keras.metrics.SparseCategoricalAccuracy()\n",
        "\n",
        "model.compile(optimizer='adam',\n",
        "              loss='sparse_categorical_crossentropy',\n",
        "              metrics=[acc])\n",
        "\n",
        "# 문자열로 지정\n",
        "model.compile(optimizer='adam',\n",
        "              loss='sparse_categorical_crossentropy',\n",
        "              metrics=['accuracy'])"
      ],
      "metadata": {
        "id": "zz-NxKs5-79S"
      },
      "execution_count": null,
      "outputs": []
    },
    {
      "cell_type": "markdown",
      "source": [
        "# Training & Evaluation & Prediction"
      ],
      "metadata": {
        "id": "ufDupsA3_uNY"
      }
    },
    {
      "cell_type": "code",
      "source": [
        "# 훈련\n",
        "model.fit(x_train, y_train,\n",
        "          # 검증 셋 지정\n",
        "          validation_data = (x_test, y_test),\n",
        "          epochs = 10,\n",
        "          )"
      ],
      "metadata": {
        "colab": {
          "base_uri": "https://localhost:8080/"
        },
        "id": "4-pleCqk_sxy",
        "outputId": "0d6c6ade-ba2c-4407-8c27-9d959aa49868"
      },
      "execution_count": null,
      "outputs": [
        {
          "output_type": "stream",
          "name": "stdout",
          "text": [
            "Epoch 1/10\n",
            "1875/1875 [==============================] - 10s 5ms/step - loss: 0.2288 - accuracy: 0.9327 - val_loss: 0.1249 - val_accuracy: 0.9614\n",
            "Epoch 2/10\n",
            "1875/1875 [==============================] - 10s 5ms/step - loss: 0.0945 - accuracy: 0.9706 - val_loss: 0.0919 - val_accuracy: 0.9715\n",
            "Epoch 3/10\n",
            "1875/1875 [==============================] - 10s 5ms/step - loss: 0.0645 - accuracy: 0.9800 - val_loss: 0.0704 - val_accuracy: 0.9785\n",
            "Epoch 4/10\n",
            "1875/1875 [==============================] - 10s 5ms/step - loss: 0.0497 - accuracy: 0.9847 - val_loss: 0.0683 - val_accuracy: 0.9805\n",
            "Epoch 5/10\n",
            "1875/1875 [==============================] - 10s 6ms/step - loss: 0.0406 - accuracy: 0.9870 - val_loss: 0.0802 - val_accuracy: 0.9776\n",
            "Epoch 6/10\n",
            "1875/1875 [==============================] - 9s 5ms/step - loss: 0.0336 - accuracy: 0.9888 - val_loss: 0.0926 - val_accuracy: 0.9730\n",
            "Epoch 7/10\n",
            "1875/1875 [==============================] - 9s 5ms/step - loss: 0.0277 - accuracy: 0.9908 - val_loss: 0.0692 - val_accuracy: 0.9824\n",
            "Epoch 8/10\n",
            "1875/1875 [==============================] - 10s 5ms/step - loss: 0.0232 - accuracy: 0.9928 - val_loss: 0.0892 - val_accuracy: 0.9772\n",
            "Epoch 9/10\n",
            "1875/1875 [==============================] - 10s 5ms/step - loss: 0.0209 - accuracy: 0.9932 - val_loss: 0.0864 - val_accuracy: 0.9771\n",
            "Epoch 10/10\n",
            "1875/1875 [==============================] - 8s 4ms/step - loss: 0.0188 - accuracy: 0.9939 - val_loss: 0.0881 - val_accuracy: 0.9798\n"
          ]
        },
        {
          "output_type": "execute_result",
          "data": {
            "text/plain": [
              "<keras.callbacks.History at 0x7f9260cd7d10>"
            ]
          },
          "metadata": {},
          "execution_count": 22
        }
      ]
    },
    {
      "cell_type": "code",
      "source": [
        "# 검증\n",
        "test_loss, test_acc = model.evaluate(x_test, y_test)\n",
        "\n",
        "print('검증 셋 정확도:', test_acc)"
      ],
      "metadata": {
        "colab": {
          "base_uri": "https://localhost:8080/"
        },
        "id": "r0UwwjGpAIII",
        "outputId": "e2d3a293-6f93-41cf-b2ca-5184ddcd7673"
      },
      "execution_count": null,
      "outputs": [
        {
          "output_type": "stream",
          "name": "stdout",
          "text": [
            "313/313 [==============================] - 1s 2ms/step - loss: 0.0881 - accuracy: 0.9798\n",
            "검증 셋 정확도: 0.9797999858856201\n"
          ]
        }
      ]
    },
    {
      "cell_type": "code",
      "source": [
        "# 예측(여기서는 예측에 필요한 new dataset이 준비되어 있지 않은 관계로)\n",
        "predictions = model.predict(x_test)\n",
        "\n",
        "# 예측 결과 출력(model의 output 노드 개수가 10개로 지정되었으므로 10개 값이 출력됨)\n",
        "print(predictions[0])\n",
        "\n",
        "# 0번 index에 대한 예측 클래스 출력\n",
        "print(np.argmax(predictions[0]))\n",
        "\n",
        "# 첫 10개 index에 대한 예측 클래스 출력\n",
        "print(np.argmax(predictions[:10], axis=1))"
      ],
      "metadata": {
        "colab": {
          "base_uri": "https://localhost:8080/"
        },
        "id": "JSndPn_rAV9I",
        "outputId": "7d09b9c0-5d69-442f-ea65-5e5dd95f4919"
      },
      "execution_count": null,
      "outputs": [
        {
          "output_type": "stream",
          "name": "stdout",
          "text": [
            "[5.5308974e-10 4.0086540e-08 5.9508183e-11 8.9004050e-07 4.2178955e-11\n",
            " 1.0728016e-08 8.5029102e-12 9.9999559e-01 8.2908808e-10 3.6202362e-06]\n",
            "7\n",
            "[7 2 1 0 4 1 4 9 5 9]\n"
          ]
        }
      ]
    },
    {
      "cell_type": "code",
      "source": [
        "# 데이터 시각화\n",
        "def get_one_result(idx):\n",
        "    img, y_true, y_pred, confidence = x_test[idx], y_test[idx], np.argmax(predictions[idx]), \\\n",
        "                                     100*np.max(predictions[idx])\n",
        "    return img, y_true, y_pred, confidence\n",
        "\n",
        "# canvas 생성\n",
        "fig, axes = plt.subplots(3, 5)\n",
        "fig.set_size_inches(12, 10)\n",
        "for i in range(15):\n",
        "    ax = axes[i//5, i%5]\n",
        "    img, y_true, y_pred, confidence = get_one_result(i)\n",
        "    ax.imshow(img, cmap='gray')\n",
        "    ax.set_xticks([])\n",
        "    ax.set_yticks([])\n",
        "    ax.set_title(f'True: {y_true}')\n",
        "    ax.set_xlabel(f'Predictions: {y_pred}\\nConfidence: ({confidence:.2f} %)')\n",
        "plt.tight_layout()               # 서브 플롯간에 올바른 간격을 자동으로 유지하게 함\n",
        "plt.show()"
      ],
      "metadata": {
        "colab": {
          "base_uri": "https://localhost:8080/",
          "height": 696
        },
        "id": "LhWJABSMAn6O",
        "outputId": "df86d41c-282d-437d-84a9-3420d931dc88"
      },
      "execution_count": null,
      "outputs": [
        {
          "output_type": "display_data",
          "data": {
            "text/plain": [
              "<Figure size 864x720 with 15 Axes>"
            ],
            "image/png": "[encoded data removed]"
          },
          "metadata": {}
        }
      ]
    },
    {
      "cell_type": "code",
      "source": [
        ""
      ],
      "metadata": {
        "id": "pQW8sl6mCRfQ"
      },
      "execution_count": null,
      "outputs": []
    }
  ]
}