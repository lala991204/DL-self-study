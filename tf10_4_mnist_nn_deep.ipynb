{
  "nbformat": 4,
  "nbformat_minor": 0,
  "metadata": {
    "colab": {
      "name": "tf10-4-mnist_nn_deep.ipynb",
      "provenance": [],
      "authorship_tag": "ABX9TyMfT82vWxTYJT3p8uW+1cPs",
      "include_colab_link": true
    },
    "kernelspec": {
      "name": "python3",
      "display_name": "Python 3"
    },
    "language_info": {
      "name": "python"
    }
  },
  "cells": [
    {
      "cell_type": "markdown",
      "metadata": {
        "id": "view-in-github",
        "colab_type": "text"
      },
      "source": [
        "<a href=\"https://colab.research.google.com/github/lala991204/DL-self-study/blob/master/tf10_4_mnist_nn_deep.ipynb\" target=\"_parent\"><img src=\"https://colab.research.google.com/assets/colab-badge.svg\" alt=\"Open In Colab\"/></a>"
      ]
    },
    {
      "cell_type": "markdown",
      "source": [
        "wide(256->512), deep(2layers->3layers)하게 수행 "
      ],
      "metadata": {
        "id": "WqeSnCZha2to"
      }
    },
    {
      "cell_type": "code",
      "execution_count": 1,
      "metadata": {
        "colab": {
          "base_uri": "https://localhost:8080/"
        },
        "id": "lnbitO_aXv9i",
        "outputId": "d36ee1f2-86c5-4f69-e926-0768178dc929"
      },
      "outputs": [
        {
          "output_type": "stream",
          "name": "stdout",
          "text": [
            "Downloading data from https://storage.googleapis.com/tensorflow/tf-keras-datasets/mnist.npz\n",
            "11493376/11490434 [==============================] - 0s 0us/step\n",
            "11501568/11490434 [==============================] - 0s 0us/step\n",
            "(60000, 28, 28)\n"
          ]
        },
        {
          "output_type": "stream",
          "name": "stderr",
          "text": [
            "/usr/local/lib/python3.7/dist-packages/keras/optimizer_v2/adam.py:105: UserWarning: The `lr` argument is deprecated, use `learning_rate` instead.\n",
            "  super(Adam, self).__init__(name, **kwargs)\n"
          ]
        },
        {
          "output_type": "stream",
          "name": "stdout",
          "text": [
            "Model: \"sequential\"\n",
            "_________________________________________________________________\n",
            " Layer (type)                Output Shape              Param #   \n",
            "=================================================================\n",
            " dense (Dense)               (None, 512)               401920    \n",
            "                                                                 \n",
            " dense_1 (Dense)             (None, 512)               262656    \n",
            "                                                                 \n",
            " dense_2 (Dense)             (None, 512)               262656    \n",
            "                                                                 \n",
            " dense_3 (Dense)             (None, 512)               262656    \n",
            "                                                                 \n",
            " dense_4 (Dense)             (None, 10)                5130      \n",
            "                                                                 \n",
            "=================================================================\n",
            "Total params: 1,195,018\n",
            "Trainable params: 1,195,018\n",
            "Non-trainable params: 0\n",
            "_________________________________________________________________\n",
            "Epoch 1/15\n",
            "600/600 [==============================] - 17s 28ms/step - loss: 0.9342 - accuracy: 0.9049\n",
            "Epoch 2/15\n",
            "600/600 [==============================] - 13s 21ms/step - loss: 0.1380 - accuracy: 0.9596\n",
            "Epoch 3/15\n",
            "600/600 [==============================] - 14s 23ms/step - loss: 0.1066 - accuracy: 0.9684\n",
            "Epoch 4/15\n",
            "600/600 [==============================] - 13s 22ms/step - loss: 0.0950 - accuracy: 0.9720\n",
            "Epoch 5/15\n",
            "600/600 [==============================] - 13s 22ms/step - loss: 0.0827 - accuracy: 0.9751\n",
            "Epoch 6/15\n",
            "600/600 [==============================] - 13s 22ms/step - loss: 0.0737 - accuracy: 0.9782\n",
            "Epoch 7/15\n",
            "600/600 [==============================] - 13s 22ms/step - loss: 0.0660 - accuracy: 0.9801\n",
            "Epoch 8/15\n",
            "600/600 [==============================] - 13s 22ms/step - loss: 0.0627 - accuracy: 0.9816\n",
            "Epoch 9/15\n",
            "600/600 [==============================] - 13s 22ms/step - loss: 0.0629 - accuracy: 0.9829\n",
            "Epoch 10/15\n",
            "600/600 [==============================] - 13s 22ms/step - loss: 0.0566 - accuracy: 0.9841\n",
            "Epoch 11/15\n",
            "600/600 [==============================] - 13s 22ms/step - loss: 0.0530 - accuracy: 0.9853\n",
            "Epoch 12/15\n",
            "600/600 [==============================] - 13s 22ms/step - loss: 0.0506 - accuracy: 0.9857\n",
            "Epoch 13/15\n",
            "600/600 [==============================] - 13s 22ms/step - loss: 0.0503 - accuracy: 0.9865\n",
            "Epoch 14/15\n",
            "600/600 [==============================] - 13s 22ms/step - loss: 0.0471 - accuracy: 0.9874\n",
            "Epoch 15/15\n",
            "600/600 [==============================] - 13s 22ms/step - loss: 0.0452 - accuracy: 0.9883\n",
            "index:  3757 actual y:  8 predicted y:  8\n",
            "index:  7304 actual y:  5 predicted y:  5\n",
            "index:  7300 actual y:  7 predicted y:  7\n",
            "index:  6039 actual y:  9 predicted y:  9\n",
            "index:  9429 actual y:  3 predicted y:  3\n",
            "index:  4420 actual y:  5 predicted y:  5\n",
            "index:  5507 actual y:  2 predicted y:  2\n",
            "index:  8809 actual y:  1 predicted y:  1\n",
            "index:  654 actual y:  5 predicted y:  5\n",
            "index:  7302 actual y:  8 predicted y:  8\n",
            "313/313 [==============================] - 2s 5ms/step - loss: 0.1584 - accuracy: 0.9663\n",
            "loss:  0.1583961695432663\n",
            "accuracy 0.9663000106811523\n"
          ]
        }
      ],
      "source": [
        "import numpy as np\n",
        "import random\n",
        "import tensorflow as tf\n",
        "\n",
        "random.seed(777)  # for reproducibility\n",
        "learning_rate = 0.001\n",
        "batch_size = 100\n",
        "training_epochs = 15\n",
        "nb_classes = 10\n",
        "\n",
        "(x_train, y_train), (x_test2, y_test) = tf.keras.datasets.mnist.load_data()\n",
        "print(x_train.shape)\n",
        "\n",
        "x_train = x_train.reshape(x_train.shape[0], 28 * 28)\n",
        "x_test = x_test2.reshape(x_test2.shape[0], 28 * 28)\n",
        "\n",
        "y_train = tf.keras.utils.to_categorical(y_train, nb_classes)\n",
        "y_test = tf.keras.utils.to_categorical(y_test, nb_classes)\n",
        "\n",
        "tf.model = tf.keras.Sequential()\n",
        "\n",
        "# Glorot normal initializer, also called Xavier normal initializer.\n",
        "tf.model.add(tf.keras.layers.Dense(input_dim=784, units=512, kernel_initializer='glorot_normal', activation='relu'))\n",
        "tf.model.add(tf.keras.layers.Dense(units=512, kernel_initializer='glorot_normal', activation='relu'))\n",
        "tf.model.add(tf.keras.layers.Dense(units=512, kernel_initializer='glorot_normal', activation='relu'))\n",
        "tf.model.add(tf.keras.layers.Dense(units=512, kernel_initializer='glorot_normal', activation='relu'))\n",
        "tf.model.add(tf.keras.layers.Dense(units=nb_classes, kernel_initializer='glorot_normal', activation='softmax'))\n",
        "tf.model.compile(loss='categorical_crossentropy',\n",
        "                 optimizer=tf.keras.optimizers.Adam(lr=learning_rate), metrics=['accuracy'])\n",
        "tf.model.summary()\n",
        "\n",
        "history = tf.model.fit(x_train, y_train, batch_size=batch_size, epochs=training_epochs)\n",
        "\n",
        "# predict 10 random hand-writing data\n",
        "y_predicted = tf.model.predict(x_test)\n",
        "for x in range(0, 10):\n",
        "    random_index = random.randint(0, x_test.shape[0]-1)\n",
        "    print(\"index: \", random_index,\n",
        "          \"actual y: \", np.argmax(y_test[random_index]),\n",
        "          \"predicted y: \", np.argmax(y_predicted[random_index]))\n",
        "\n",
        "# evaluate test set\n",
        "evaluation = tf.model.evaluate(x_test, y_test)\n",
        "print('loss: ', evaluation[0])\n",
        "print('accuracy', evaluation[1])"
      ]
    },
    {
      "cell_type": "markdown",
      "source": [
        "94% -> 96% 정확도 상승"
      ],
      "metadata": {
        "id": "jahTUHbfbvAi"
      }
    },
    {
      "cell_type": "code",
      "source": [
        ""
      ],
      "metadata": {
        "id": "NgsmcVnZay4J"
      },
      "execution_count": null,
      "outputs": []
    }
  ]
}