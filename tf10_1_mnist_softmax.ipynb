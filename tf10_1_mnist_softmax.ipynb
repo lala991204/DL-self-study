{
  "nbformat": 4,
  "nbformat_minor": 0,
  "metadata": {
    "colab": {
      "name": "tf10-1-mnist_softmax.ipynb",
      "provenance": [],
      "authorship_tag": "ABX9TyMLgOyspcL9QgoGeZ/AREyp",
      "include_colab_link": true
    },
    "kernelspec": {
      "name": "python3",
      "display_name": "Python 3"
    },
    "language_info": {
      "name": "python"
    }
  },
  "cells": [
    {
      "cell_type": "markdown",
      "metadata": {
        "id": "view-in-github",
        "colab_type": "text"
      },
      "source": [
        "<a href=\"https://colab.research.google.com/github/lala991204/DL-self-study/blob/master/tf10_1_mnist_softmax.ipynb\" target=\"_parent\"><img src=\"https://colab.research.google.com/assets/colab-badge.svg\" alt=\"Open In Colab\"/></a>"
      ]
    },
    {
      "cell_type": "code",
      "execution_count": 2,
      "metadata": {
        "colab": {
          "base_uri": "https://localhost:8080/"
        },
        "id": "0Bb7ZbBiFLwk",
        "outputId": "f48d47df-ec6e-490f-95f5-44b682ac14d9"
      },
      "outputs": [
        {
          "output_type": "stream",
          "name": "stdout",
          "text": [
            "(60000, 28, 28)\n",
            "Model: \"sequential\"\n",
            "_________________________________________________________________\n",
            " Layer (type)                Output Shape              Param #   \n",
            "=================================================================\n",
            " dense (Dense)               (None, 10)                7850      \n",
            "                                                                 \n",
            "=================================================================\n",
            "Total params: 7,850\n",
            "Trainable params: 7,850\n",
            "Non-trainable params: 0\n",
            "_________________________________________________________________\n",
            "Epoch 1/15\n",
            "600/600 [==============================] - 2s 2ms/step - loss: 0.6249 - accuracy: 0.8454\n",
            "Epoch 2/15\n",
            "600/600 [==============================] - 1s 2ms/step - loss: 0.3456 - accuracy: 0.9060\n",
            "Epoch 3/15\n",
            "600/600 [==============================] - 1s 2ms/step - loss: 0.3091 - accuracy: 0.9148\n",
            "Epoch 4/15\n",
            "600/600 [==============================] - 1s 2ms/step - loss: 0.2922 - accuracy: 0.9186\n",
            "Epoch 5/15\n",
            "600/600 [==============================] - 1s 2ms/step - loss: 0.2821 - accuracy: 0.9213\n",
            "Epoch 6/15\n",
            "600/600 [==============================] - 1s 2ms/step - loss: 0.2746 - accuracy: 0.9234\n",
            "Epoch 7/15\n",
            "600/600 [==============================] - 1s 2ms/step - loss: 0.2696 - accuracy: 0.9250\n",
            "Epoch 8/15\n",
            "600/600 [==============================] - 1s 2ms/step - loss: 0.2655 - accuracy: 0.9265\n",
            "Epoch 9/15\n",
            "600/600 [==============================] - 1s 2ms/step - loss: 0.2621 - accuracy: 0.9269\n",
            "Epoch 10/15\n",
            "600/600 [==============================] - 1s 2ms/step - loss: 0.2595 - accuracy: 0.9279\n",
            "Epoch 11/15\n",
            "600/600 [==============================] - 2s 3ms/step - loss: 0.2570 - accuracy: 0.9288\n",
            "Epoch 12/15\n",
            "600/600 [==============================] - 1s 2ms/step - loss: 0.2545 - accuracy: 0.9298\n",
            "Epoch 13/15\n",
            "600/600 [==============================] - 1s 2ms/step - loss: 0.2532 - accuracy: 0.9299\n",
            "Epoch 14/15\n",
            "600/600 [==============================] - 1s 2ms/step - loss: 0.2513 - accuracy: 0.9305\n",
            "Epoch 15/15\n",
            "600/600 [==============================] - 1s 2ms/step - loss: 0.2497 - accuracy: 0.9309\n",
            "Prediction: \n",
            " [[2.66158304e-06 1.47093188e-11 7.90545255e-06 ... 9.94107842e-01\n",
            "  1.89622242e-05 2.96300190e-04]\n",
            " [2.81492772e-04 1.77562333e-06 9.94963765e-01 ... 6.90287722e-18\n",
            "  2.85109709e-05 4.52493742e-14]\n",
            " [1.65033271e-06 9.79695082e-01 1.25465980e-02 ... 7.27281731e-04\n",
            "  3.03867529e-03 2.16875909e-04]\n",
            " ...\n",
            " [1.07353388e-08 5.24779731e-09 3.52082498e-06 ... 9.03090753e-04\n",
            "  4.61101672e-03 1.18068028e-02]\n",
            " [1.08744345e-07 2.10316259e-07 1.14046379e-07 ... 4.79773057e-08\n",
            "  4.11681319e-03 7.09258785e-08]\n",
            " [2.11521569e-06 2.91282874e-14 6.06169160e-05 ... 9.38033939e-13\n",
            "  2.89658253e-08 7.46880266e-11]]\n",
            "1875/1875 [==============================] - 3s 1ms/step - loss: 0.2458 - accuracy: 0.9326\n",
            "Accuracy:  0.9326333403587341\n"
          ]
        }
      ],
      "source": [
        "import tensorflow as tf\n",
        "\n",
        "learning_rate = 0.001\n",
        "batch_size = 100\n",
        "training_epochs = 15\n",
        "nb_classes = 10\n",
        "\n",
        "mnist = tf.keras.datasets.mnist\n",
        "\n",
        "(x_train, y_train), (x_test, y_test) = mnist.load_data()\n",
        "\n",
        "# normalizing data\n",
        "x_train, x_test = x_train / 255.0, x_test / 255.0\n",
        "\n",
        "# change data shape\n",
        "print(x_train.shape)     # (60000, 28, 28)\n",
        "x_train = x_train.reshape(x_train.shape[0], x_train.shape[1] * x_train.shape[2])\n",
        "x_test = x_test.reshape(x_test.shape[0], x_test.shape[1] * x_test.shape[2])\n",
        "\n",
        "# change result to one-hot encoding\n",
        "y_train = tf.keras.utils.to_categorical(y_train, 10)\n",
        "y_test = tf.keras.utils.to_categorical(y_test, 10)\n",
        "\n",
        "tf.model = tf.keras.Sequential()\n",
        "tf.model.add(tf.keras.layers.Dense(units=10, input_dim=784, activation='softmax'))\n",
        "tf.model.compile(loss='categorical_crossentropy', optimizer=tf.optimizers.Adam(0.001),\n",
        "                 metrics=['accuracy'])\n",
        "tf.model.summary()\n",
        "\n",
        "history = tf.model.fit(x_train, y_train, batch_size=batch_size, epochs=training_epochs)\n",
        "\n",
        "predictions = tf.model.predict(x_test)\n",
        "print('Prediction: \\n', predictions)\n",
        "\n",
        "score = tf.model.evaluate(x_train, y_train)\n",
        "print('Accuracy: ', score[1])"
      ]
    },
    {
      "cell_type": "code",
      "source": [
        ""
      ],
      "metadata": {
        "id": "qYlHVZZvNq-U"
      },
      "execution_count": null,
      "outputs": []
    }
  ]
}