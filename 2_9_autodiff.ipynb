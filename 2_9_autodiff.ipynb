{
  "nbformat": 4,
  "nbformat_minor": 0,
  "metadata": {
    "colab": {
      "name": "2.9_autodiff.ipynb",
      "provenance": [],
      "collapsed_sections": [],
      "authorship_tag": "ABX9TyN0ekDUS2awlqYt6+2ueoa0",
      "include_colab_link": true
    },
    "kernelspec": {
      "name": "python3",
      "display_name": "Python 3"
    },
    "language_info": {
      "name": "python"
    }
  },
  "cells": [
    {
      "cell_type": "markdown",
      "metadata": {
        "id": "view-in-github",
        "colab_type": "text"
      },
      "source": [
        "<a href=\"https://colab.research.google.com/github/lala991204/DL-self-study/blob/master/2_9_autodiff.ipynb\" target=\"_parent\"><img src=\"https://colab.research.google.com/assets/colab-badge.svg\" alt=\"Open In Colab\"/></a>"
      ]
    },
    {
      "cell_type": "code",
      "execution_count": 2,
      "metadata": {
        "colab": {
          "base_uri": "https://localhost:8080/"
        },
        "id": "IxiehFMWkdKR",
        "outputId": "cf8c9968-141e-417c-a221-00a4d326d301"
      },
      "outputs": [
        {
          "output_type": "stream",
          "name": "stdout",
          "text": [
            "X: [-0.20943771  1.2746525   1.213214   -0.17576952  1.876984    0.16379918\n",
            "  1.082245    0.6199966  -0.44402212  1.3048344 ]\n",
            "Y: [-2.628313    1.8239574   1.6396422  -2.5273085   3.630952   -1.5086024\n",
            "  1.2467351  -0.14001012 -3.3320663   1.9145031 ]\n"
          ]
        }
      ],
      "source": [
        "import tensorflow as tf\n",
        "\n",
        "# Y = 3X - 2 선형 관계를 갖는 데이터셋 생성\n",
        "g = tf.random.Generator.from_seed(2020)\n",
        "X = g.normal(shape=(10,))       # 정규분포를 갖는 10개의 숫자 데이터 추출\n",
        "Y = 3 * X - 2\n",
        "\n",
        "print('X:', X.numpy())\n",
        "print('Y:', Y.numpy())"
      ]
    },
    {
      "cell_type": "code",
      "source": [
        "# Loss 함수 정의\n",
        "def cal_mse(X, Y, a, b):\n",
        "    Y_pred = a * X + b\n",
        "    squared_error = (Y_pred - Y) ** 2\n",
        "    mean_squared_error = tf.reduce_mean(squared_error)\n",
        "\n",
        "    return mean_squared_error"
      ],
      "metadata": {
        "id": "L51TSFOrlR36"
      },
      "execution_count": 3,
      "outputs": []
    },
    {
      "cell_type": "code",
      "source": [
        "# tf.GradientTape으로 자동 미분 과정을 기록\n",
        "\n",
        "a = tf.Variable(0.0)        # 초기화\n",
        "b = tf.Variable(0.0)\n",
        "\n",
        "EPOCHS = 200\n",
        "\n",
        "for epoch in range(1, EPOCHS + 1):\n",
        "\n",
        "    with tf.GradientTape() as tape:    # 연관된 연산을 \"테이프\"에 기록하여\n",
        "        mse = cal_mse(X, Y, a, b)\n",
        "    \n",
        "    grad = tape.gradient(mse, {'a':a, 'b':b})     # 후진 모드 자동 미분 (오차 역전파)\n",
        "    d_a, d_b = grad['a'], grad['b']\n",
        "\n",
        "    a.assign_sub(d_a * 0.05)     # 0.05: learning rate\n",
        "    b.assign_sub(d_b * 0.05)\n",
        "\n",
        "    if epoch % 20 == 0:\n",
        "        print(\"EPOCH %d - MSE: %.4f --- a: %.2f --- b: %.2f\" %(epoch, mse, a, b))"
      ],
      "metadata": {
        "colab": {
          "base_uri": "https://localhost:8080/"
        },
        "id": "4aY8kB_fmMG6",
        "outputId": "cbca166a-551c-453a-fc62-5908a77047da"
      },
      "execution_count": 4,
      "outputs": [
        {
          "output_type": "stream",
          "name": "stdout",
          "text": [
            "EPOCH 20 - MSE: 1.1415 --- a: 1.74 --- b: -0.75\n",
            "EPOCH 40 - MSE: 0.2881 --- a: 2.37 --- b: -1.37\n",
            "EPOCH 60 - MSE: 0.0728 --- a: 2.69 --- b: -1.68\n",
            "EPOCH 80 - MSE: 0.0184 --- a: 2.84 --- b: -1.84\n",
            "EPOCH 100 - MSE: 0.0046 --- a: 2.92 --- b: -1.92\n",
            "EPOCH 120 - MSE: 0.0012 --- a: 2.96 --- b: -1.96\n",
            "EPOCH 140 - MSE: 0.0003 --- a: 2.98 --- b: -1.98\n",
            "EPOCH 160 - MSE: 0.0001 --- a: 2.99 --- b: -1.99\n",
            "EPOCH 180 - MSE: 0.0000 --- a: 2.99 --- b: -1.99\n",
            "EPOCH 200 - MSE: 0.0000 --- a: 3.00 --- b: -2.00\n"
          ]
        }
      ]
    },
    {
      "cell_type": "code",
      "source": [
        ""
      ],
      "metadata": {
        "id": "0KlTX1WOnW46"
      },
      "execution_count": null,
      "outputs": []
    }
  ]
}