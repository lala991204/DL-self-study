{
  "nbformat": 4,
  "nbformat_minor": 0,
  "metadata": {
    "colab": {
      "name": "2.6_indexing.ipynb",
      "provenance": [],
      "authorship_tag": "ABX9TyMR1GTxgsaYW8zeOuQiAMwZ",
      "include_colab_link": true
    },
    "kernelspec": {
      "name": "python3",
      "display_name": "Python 3"
    },
    "language_info": {
      "name": "python"
    }
  },
  "cells": [
    {
      "cell_type": "markdown",
      "metadata": {
        "id": "view-in-github",
        "colab_type": "text"
      },
      "source": [
        "<a href=\"https://colab.research.google.com/github/lala991204/DL-self-study/blob/master/2_6_indexing.ipynb\" target=\"_parent\"><img src=\"https://colab.research.google.com/assets/colab-badge.svg\" alt=\"Open In Colab\"/></a>"
      ]
    },
    {
      "cell_type": "code",
      "execution_count": 7,
      "metadata": {
        "colab": {
          "base_uri": "https://localhost:8080/"
        },
        "id": "2uv47SX3ISsT",
        "outputId": "eb3789d0-b512-4c09-ef65-5543804f1344"
      },
      "outputs": [
        {
          "output_type": "stream",
          "name": "stdout",
          "text": [
            "tf.Tensor([10 20 30 40 50], shape=(5,), dtype=int32)\n",
            "tf.Tensor(10, shape=(), dtype=int32)\n",
            "tf.Tensor(50, shape=(), dtype=int32)\n",
            "tf.Tensor([10 20 30], shape=(3,), dtype=int32)\n",
            "tf.Tensor(30, shape=(), dtype=int32)\n",
            "tf.Tensor([10 20 30], shape=(3,), dtype=int32)\n",
            "tf.Tensor([20 50], shape=(2,), dtype=int32)\n",
            "tf.Tensor(\n",
            "[[10 20 30]\n",
            " [40 50 60]], shape=(2, 3), dtype=int32)\n",
            "tf.Tensor(\n",
            "[[[ 10  20  30]\n",
            "  [ 40  50  60]]\n",
            "\n",
            " [[-10 -20 -30]\n",
            "  [-40 -50 -60]]], shape=(2, 2, 3), dtype=int32)\n",
            "tf.Tensor(\n",
            "[[[ 10  20  30]\n",
            "  [ 40  50  60]]\n",
            "\n",
            " [[-10 -20 -30]\n",
            "  [-40 -50 -60]]], shape=(2, 2, 3), dtype=int32)\n",
            "tf.Tensor(\n",
            "[[[ 10  20]\n",
            "  [ 40  50]]\n",
            "\n",
            " [[-10 -20]\n",
            "  [-40 -50]]], shape=(2, 2, 2), dtype=int32)\n"
          ]
        }
      ],
      "source": [
        "import tensorflow as tf\n",
        "\n",
        "# 벡터 정의\n",
        "vec = tf.constant([10, 20, 30, 40, 50])\n",
        "print(vec)\n",
        "\n",
        "print(vec[0])\n",
        "print(vec[-1])\n",
        "print(vec[:3])\n",
        "\n",
        "# 행렬 정의\n",
        "mat = tf.constant([[10, 20, 30],\n",
        "                   [40, 50, 60]])\n",
        "\n",
        "print(mat[0,2])\n",
        "print(mat[0,:])\n",
        "print(mat[:,1])\n",
        "print(mat[:,:])\n",
        "\n",
        "\n",
        "# 랭크-3 텐서 정의\n",
        "tensor = tf.constant([\n",
        "                      [[10, 20, 30],\n",
        "                       [40, 50, 60]],\n",
        "                      [[-10, -20, -30],\n",
        "                       [-40, -50, -60]]\n",
        "])\n",
        "print(tensor)\n",
        "\n",
        "print(tensor[0:,:,:])\n",
        "print(tensor[:,:2,:2])"
      ]
    },
    {
      "cell_type": "code",
      "source": [
        ""
      ],
      "metadata": {
        "id": "7bNj1LVVfCJE"
      },
      "execution_count": null,
      "outputs": []
    }
  ]
}