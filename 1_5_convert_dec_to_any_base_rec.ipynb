{
  "nbformat": 4,
  "nbformat_minor": 0,
  "metadata": {
    "colab": {
      "name": "1.5_convert_dec_to_any_base_rec.ipynb",
      "provenance": [],
      "authorship_tag": "ABX9TyPRVytOFp1jaBNyVlNxWHsG",
      "include_colab_link": true
    },
    "kernelspec": {
      "name": "python3",
      "display_name": "Python 3"
    },
    "language_info": {
      "name": "python"
    }
  },
  "cells": [
    {
      "cell_type": "markdown",
      "metadata": {
        "id": "view-in-github",
        "colab_type": "text"
      },
      "source": [
        "<a href=\"https://colab.research.google.com/github/lala991204/DL-self-study/blob/master/1_5_convert_dec_to_any_base_rec.ipynb\" target=\"_parent\"><img src=\"https://colab.research.google.com/assets/colab-badge.svg\" alt=\"Open In Colab\"/></a>"
      ]
    },
    {
      "cell_type": "code",
      "execution_count": 1,
      "metadata": {
        "colab": {
          "base_uri": "https://localhost:8080/"
        },
        "id": "IpCFNaH04kCY",
        "outputId": "478581da-93a2-47ee-feb1-7a2c1e7e0da0"
      },
      "outputs": [
        {
          "output_type": "stream",
          "name": "stdout",
          "text": [
            "테스트 통과!\n"
          ]
        }
      ],
      "source": [
        "# 재귀 함수를 사용한 진법 변환\n",
        "def convert_dec_to_any_base_rec(number, base):\n",
        "    convertString = \"0123456789ABCDEF\"\n",
        "    if number < base:\n",
        "        return convertString[number]\n",
        "    else:\n",
        "        return convert_dec_to_any_base_rec(number // base, base) \\\n",
        "              + convertString[number % base]\n",
        "\n",
        "def test_convert_dec_to_any_base_rec():\n",
        "    number = 9\n",
        "    base = 2\n",
        "    assert(convert_dec_to_any_base_rec(number, base) == \"1001\")\n",
        "    print(\"테스트 통과!\")\n",
        "\n",
        "if __name__ == \"__main__\":\n",
        "    test_convert_dec_to_any_base_rec()"
      ]
    },
    {
      "cell_type": "code",
      "source": [
        ""
      ],
      "metadata": {
        "id": "exxcLbhi5qpC"
      },
      "execution_count": null,
      "outputs": []
    }
  ]
}