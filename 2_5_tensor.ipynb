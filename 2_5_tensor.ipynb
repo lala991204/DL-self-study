{
  "nbformat": 4,
  "nbformat_minor": 0,
  "metadata": {
    "colab": {
      "name": "2.5_tensor.ipynb",
      "provenance": [],
      "collapsed_sections": [],
      "authorship_tag": "ABX9TyPfXJFcxI0AIQyJxzAAXXpY",
      "include_colab_link": true
    },
    "kernelspec": {
      "name": "python3",
      "display_name": "Python 3"
    },
    "language_info": {
      "name": "python"
    }
  },
  "cells": [
    {
      "cell_type": "markdown",
      "metadata": {
        "id": "view-in-github",
        "colab_type": "text"
      },
      "source": [
        "<a href=\"https://colab.research.google.com/github/lala991204/DL-self-study/blob/master/2_5_tensor.ipynb\" target=\"_parent\"><img src=\"https://colab.research.google.com/assets/colab-badge.svg\" alt=\"Open In Colab\"/></a>"
      ]
    },
    {
      "cell_type": "code",
      "execution_count": 3,
      "metadata": {
        "colab": {
          "base_uri": "https://localhost:8080/"
        },
        "id": "c4Mkc4aOEp2N",
        "outputId": "0079f954-0a7e-4fc5-8ac7-96aeb35b799f"
      },
      "outputs": [
        {
          "output_type": "stream",
          "name": "stdout",
          "text": [
            "rank: tf.Tensor(3, shape=(), dtype=int32)\n",
            "tensor1: tf.Tensor(\n",
            "[[[ 1  2  3  4]\n",
            "  [ 5  6  7  8]]\n",
            "\n",
            " [[ 9 10 11 12]\n",
            "  [13 14 15 16]]\n",
            "\n",
            " [[17 18 19 20]\n",
            "  [21 22 23 24]]], shape=(3, 2, 4), dtype=int32)\n",
            "rank: tf.Tensor(3, shape=(), dtype=int32)\n",
            "tensor2: tf.Tensor(\n",
            "[[[ 1  2  3  4]\n",
            "  [ 5  6  7  8]]\n",
            "\n",
            " [[ 9 10 11 12]\n",
            "  [13 14 15 16]]\n",
            "\n",
            " [[17 18 19 20]\n",
            "  [21 22 23 24]]], shape=(3, 2, 4), dtype=int32)\n"
          ]
        }
      ],
      "source": [
        "import tensorflow as tf\n",
        "import numpy as np\n",
        "\n",
        "# 2차원 배열 정의\n",
        "mat1 = [[1, 2, 3, 4],\n",
        "        [5, 6, 7, 8,]]\n",
        "\n",
        "mat2 = [[9, 10, 11, 12],\n",
        "        [13, 14, 15, 16]]\n",
        "\n",
        "mat3 = [[17, 18, 19, 20],\n",
        "        [21, 22, 23, 24]]\n",
        "\n",
        "# 텐서 변환\n",
        "tensor1 = tf.constant([mat1, mat2, mat3])\n",
        "\n",
        "print(\"rank:\", tf.rank(tensor1))\n",
        "print(\"tensor1:\", tensor1)\n",
        "\n",
        "# 텐서 변환\n",
        "tensor2 = tf.stack([mat1, mat2, mat3])\n",
        "\n",
        "print(\"rank:\", tf.rank(tensor2))\n",
        "print(\"tensor2:\", tensor2)"
      ]
    },
    {
      "cell_type": "code",
      "source": [
        "# 1차원 배열 정의\n",
        "vec1 = [1, 2, 3, 4]\n",
        "vec2 = [5, 6, 7, 8]\n",
        "vec3 = [9, 10, 11, 12]\n",
        "vec4 = [13, 14, 15, 16]\n",
        "vec5 = [17, 18, 19, 20]\n",
        "vec6 = [21, 22, 23, 24]\n",
        "\n",
        "arr = [[vec1, vec2],\n",
        "       [vec3, vec4],\n",
        "       [vec5, vec6]]\n",
        "\n",
        "# 텐서 변환\n",
        "tensor3 = tf.constant(arr)\n",
        "\n",
        "print(\"rank:\", tf.rank(tensor3))\n",
        "print(\"tensor1:\", tensor3)"
      ],
      "metadata": {
        "colab": {
          "base_uri": "https://localhost:8080/"
        },
        "id": "BT1mFlMXE-V0",
        "outputId": "01985fc3-0dc8-4eda-8ba6-3ab97936f6bb"
      },
      "execution_count": 4,
      "outputs": [
        {
          "output_type": "stream",
          "name": "stdout",
          "text": [
            "rank: tf.Tensor(3, shape=(), dtype=int32)\n",
            "tensor1: tf.Tensor(\n",
            "[[[ 1  2  3  4]\n",
            "  [ 5  6  7  8]]\n",
            "\n",
            " [[ 9 10 11 12]\n",
            "  [13 14 15 16]]\n",
            "\n",
            " [[17 18 19 20]\n",
            "  [21 22 23 24]]], shape=(3, 2, 4), dtype=int32)\n"
          ]
        }
      ]
    },
    {
      "cell_type": "code",
      "source": [
        "# 랭크-4 텐서 만들기\n",
        "tensor4 = tf.stack([tensor1, tensor2])\n",
        "\n",
        "print(\"rank:\", tf.rank(tensor4))\n",
        "print(\"tensor1:\", tensor4)       # shape는 순서대로 axis=0,1,2,3(or -1) 방향으로 몇 개의 원소가 들어 있는지 나타냄"
      ],
      "metadata": {
        "colab": {
          "base_uri": "https://localhost:8080/"
        },
        "id": "SAEjSMuzHXrK",
        "outputId": "607144b2-cf01-40d6-e079-5d2848316537"
      },
      "execution_count": 5,
      "outputs": [
        {
          "output_type": "stream",
          "name": "stdout",
          "text": [
            "rank: tf.Tensor(4, shape=(), dtype=int32)\n",
            "tensor1: tf.Tensor(\n",
            "[[[[ 1  2  3  4]\n",
            "   [ 5  6  7  8]]\n",
            "\n",
            "  [[ 9 10 11 12]\n",
            "   [13 14 15 16]]\n",
            "\n",
            "  [[17 18 19 20]\n",
            "   [21 22 23 24]]]\n",
            "\n",
            "\n",
            " [[[ 1  2  3  4]\n",
            "   [ 5  6  7  8]]\n",
            "\n",
            "  [[ 9 10 11 12]\n",
            "   [13 14 15 16]]\n",
            "\n",
            "  [[17 18 19 20]\n",
            "   [21 22 23 24]]]], shape=(2, 3, 2, 4), dtype=int32)\n"
          ]
        }
      ]
    },
    {
      "cell_type": "code",
      "source": [
        ""
      ],
      "metadata": {
        "id": "sdz4Qp6qHpjL"
      },
      "execution_count": null,
      "outputs": []
    }
  ]
}