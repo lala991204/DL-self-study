{
  "nbformat": 4,
  "nbformat_minor": 0,
  "metadata": {
    "colab": {
      "name": "3.8_custom_loss.ipynb",
      "provenance": [],
      "collapsed_sections": [],
      "toc_visible": true,
      "authorship_tag": "ABX9TyNL73BX98hlTF5OlUjt2Fks",
      "include_colab_link": true
    },
    "kernelspec": {
      "name": "python3",
      "display_name": "Python 3"
    },
    "language_info": {
      "name": "python"
    }
  },
  "cells": [
    {
      "cell_type": "markdown",
      "metadata": {
        "id": "view-in-github",
        "colab_type": "text"
      },
      "source": [
        "<a href=\"https://colab.research.google.com/github/lala991204/DL-self-study/blob/master/tensorflow/3_8_custom_loss.ipynb\" target=\"_parent\"><img src=\"https://colab.research.google.com/assets/colab-badge.svg\" alt=\"Open In Colab\"/></a>"
      ]
    },
    {
      "cell_type": "code",
      "source": [
        "import numpy as np\n",
        "import tensorflow as tf"
      ],
      "metadata": {
        "id": "G7FqRvOS2rg7"
      },
      "execution_count": null,
      "outputs": []
    },
    {
      "cell_type": "markdown",
      "source": [
        "텐서플로에서 기본으로 제공되는 손실함수 외에 사용자가 직접 정의한 손실함수를 정의하여 모델 훈련시킬 수 있다."
      ],
      "metadata": {
        "id": "NCEHVdbQn57f"
      }
    },
    {
      "cell_type": "code",
      "execution_count": null,
      "metadata": {
        "colab": {
          "base_uri": "https://localhost:8080/"
        },
        "id": "bQnTFmR3y9ZE",
        "outputId": "d09d1651-cde3-457b-e5e7-faa2c60017fb"
      },
      "outputs": [
        {
          "output_type": "stream",
          "name": "stdout",
          "text": [
            "[[14.035316]]\n"
          ]
        }
      ],
      "source": [
        "# 샘플 데이터 생성\n",
        "X = np.array([0.0, 1.0, 2.0, 3.0, 4.0, 5.0], dtype=float)\n",
        "Y = np.array([2.0, 4.0, 6.0, 8.0, 10.0, 12.0], dtype=float)\n",
        "\n",
        "model = tf.keras.Sequential([\n",
        "        tf.keras.layers.Dense(units=1, input_shape=[1])\n",
        "])\n",
        "\n",
        "# 사용자 정의 손실함수(Huber Loss 구현)\n",
        "def custom_huber_loss(y_true, y_pred):\n",
        "    # 임계값 정의\n",
        "    threshold = 1\n",
        "    # 손실 계산\n",
        "    error = y_true - y_pred\n",
        "\n",
        "    small = tf.abs(error) <= threshold         # True, False로 이루어진 리스트 형태\n",
        "\n",
        "    # l2 loss 적용\n",
        "    small_error = tf.square(error) / 2\n",
        "\n",
        "    # l1 loss 적용\n",
        "    big_error = threshold * (tf.abs(error) - (threshold / 2))\n",
        "\n",
        "    # return\n",
        "    return tf.where(small, small_error, big_error)    # small의 원소가 True/False에 따라 small_error/big_error 적용이 달라짐.\n",
        "\n",
        "# 사용자 정의 custom_huber_loss 함수 적용\n",
        "model.compile(optimizer='sgd', loss=custom_huber_loss)\n",
        "model.fit(X, Y, epochs=1000, verbose=0)\n",
        "\n",
        "# 결과 확인\n",
        "print(model.predict([6.0]))"
      ]
    },
    {
      "cell_type": "code",
      "source": [
        ""
      ],
      "metadata": {
        "id": "VBZTnaq92kTU"
      },
      "execution_count": null,
      "outputs": []
    }
  ]
}