{
  "nbformat": 4,
  "nbformat_minor": 0,
  "metadata": {
    "colab": {
      "name": "3.11_gradient_tape.ipynb",
      "provenance": [],
      "collapsed_sections": [],
      "toc_visible": true,
      "authorship_tag": "ABX9TyPZT0YyJJ6HWtBaPNJHILHg",
      "include_colab_link": true
    },
    "kernelspec": {
      "name": "python3",
      "display_name": "Python 3"
    },
    "language_info": {
      "name": "python"
    }
  },
  "cells": [
    {
      "cell_type": "markdown",
      "metadata": {
        "id": "view-in-github",
        "colab_type": "text"
      },
      "source": [
        "<a href=\"https://colab.research.google.com/github/lala991204/DL-self-study/blob/master/tensorflow/3_11_gradient_tape.ipynb\" target=\"_parent\"><img src=\"https://colab.research.google.com/assets/colab-badge.svg\" alt=\"Open In Colab\"/></a>"
      ]
    },
    {
      "cell_type": "code",
      "execution_count": 2,
      "metadata": {
        "id": "nRq1cq9Y72TC"
      },
      "outputs": [],
      "source": [
        "import numpy as np\n",
        "import matplotlib.pyplot as plt\n",
        "import tensorflow as tf"
      ]
    },
    {
      "cell_type": "markdown",
      "source": [
        "tensorflow는 gradient를 손쉽게 update할 수 있는 자동 미분 기능을 지원한다.\n",
        "자동 미분은 tf.GradientTape()을 통해 계산 과정을 기록한 뒤 gradient() 메소드로 미분 계산 가능하다."
      ],
      "metadata": {
        "id": "-rdK5hfZ8xdi"
      }
    },
    {
      "cell_type": "code",
      "source": [
        "# a,b의 Variable 생성\n",
        "a = tf.Variable([1, 2, 3, 4, 5], dtype=tf.float32)\n",
        "b = tf.Variable([10, 20, 30, 40, 50], dtype=tf.float32)\n",
        "\n",
        "# a,b가 미분 가능한 객체인지 확인(훈련 가능한 텐서에 대해서만 gradient 계산 가능!)\n",
        "print(f'a.trainable: {a.trainable} \\nb.trainable: {b.trainable}')\n",
        "\n",
        "\n",
        "# c = a*b\n",
        "# c를 a에 대한 편미분 => b\n",
        "# c를 b에 대한 편미분 => c\n",
        "with tf.GradientTape() as tape:\n",
        "    c = a*b\n",
        "grads = tape.gradient(c, [a,b])\n",
        "tf.print(f'dc/da: {grads[0]}')\n",
        "tf.print(f'dc/db: {grads[1]}')"
      ],
      "metadata": {
        "colab": {
          "base_uri": "https://localhost:8080/"
        },
        "id": "_U-IXgmz8GDO",
        "outputId": "432875b6-0a53-4f58-e8b9-ceb07684056f"
      },
      "execution_count": 3,
      "outputs": [
        {
          "output_type": "stream",
          "name": "stdout",
          "text": [
            "a.trainable: True \n",
            "b.trainable: True\n",
            "dc/da: [10. 20. 30. 40. 50.]\n",
            "dc/db: [1. 2. 3. 4. 5.]\n"
          ]
        }
      ]
    },
    {
      "cell_type": "markdown",
      "source": [
        "다음은 y=wx+b 식을 계산하고 손실을 구한 뒤 자동 미분 기능을 활용하여 w, b 값을 update하여 최종 w, b 값을 찾도록 한다."
      ],
      "metadata": {
        "id": "vs-tmgvK9_51"
      }
    },
    {
      "cell_type": "code",
      "source": [
        "x = tf.Variable(np.random.normal(size=(100,)), dtype=tf.float32)\n",
        "y = 2*x + 3\n",
        "print(f'x[:5]: {x[:5].numpy()}\\ny[:5]: {y[:5].numpy()}')\n",
        "\n",
        "\n",
        "fig, ax = plt.subplots(figsize=(6, 4))\n",
        "ax.plot(x.numpy(), y.numpy())\n",
        "ax.grid()\n",
        "plt.show()"
      ],
      "metadata": {
        "colab": {
          "base_uri": "https://localhost:8080/",
          "height": 301
        },
        "id": "TlJZLyxQ9syc",
        "outputId": "cc8ae9fb-0651-44b5-a478-523ba6a9ef34"
      },
      "execution_count": 4,
      "outputs": [
        {
          "output_type": "stream",
          "name": "stdout",
          "text": [
            "x[:5]: [-3.4758205  -0.49301633 -0.6885596  -1.2349575   1.4124402 ]\n",
            "y[:5]: [-3.951641   2.0139673  1.6228808  0.5300851  5.8248806]\n"
          ]
        },
        {
          "output_type": "display_data",
          "data": {
            "text/plain": [
              "<Figure size 432x288 with 1 Axes>"
            ],
            "image/png": "[encoded data removed]"
          },
          "metadata": {
            "needs_background": "light"
          }
        }
      ]
    },
    {
      "cell_type": "code",
      "source": [
        "# 학습률, 최대 epoch 정의\n",
        "learning_rate = 0.25\n",
        "EPOCHS = 100\n",
        "\n",
        "# w, b 초기값을 0.0으로 설정, float type 가져야 함\n",
        "w = tf.Variable(0.0)\n",
        "b = tf.Variable(0.0)\n",
        "\n",
        "for epoch in range(EPOCHS):\n",
        "    with tf.GradientTape() as tape:\n",
        "        # y_hat(예측 값)\n",
        "        y_hat = w * x + b\n",
        "        # 손실 계산(MSE)\n",
        "        loss = tf.reduce_mean((y_hat - y)**2)\n",
        "        \n",
        "    # gradient computation(tape 범위 바깥에서 계산!)\n",
        "    dw, db = tape.gradient(loss, [w,b])    # loss function을 w, b에 대해 각각 편미분.\n",
        "\n",
        "    # gradient update\n",
        "    w = tf.Variable(w - learning_rate * dw)\n",
        "    b = tf.Variable(b - learning_rate * db)\n",
        "\n",
        "    print(f'epoch: {epoch}, loss: {loss.numpy():.4f}, w: {w.numpy():.4f}, b: {b.numpy():.4f}')\n",
        "\n",
        "    # Error가 0.0005보다 작으면 loop 종료\n",
        "    if loss.numpy() < 0.0005:\n",
        "        break"
      ],
      "metadata": {
        "colab": {
          "base_uri": "https://localhost:8080/"
        },
        "id": "-9afo3np8Gb6",
        "outputId": "239935ae-de4f-4a40-ff93-cf0901272215"
      },
      "execution_count": null,
      "outputs": [
        {
          "output_type": "stream",
          "name": "stdout",
          "text": [
            "epoch: 0, loss: 12.5617, w: 0.9488, b: 1.4611\n",
            "epoch: 1, loss: 3.3553, w: 1.4482, b: 2.2101\n",
            "epoch: 2, loss: 0.8967, w: 1.7107, b: 2.5943\n",
            "epoch: 3, loss: 0.2397, w: 1.8485, b: 2.7915\n",
            "epoch: 4, loss: 0.0641, w: 1.9207, b: 2.8928\n",
            "epoch: 5, loss: 0.0172, w: 1.9586, b: 2.9449\n",
            "epoch: 6, loss: 0.0046, w: 1.9784, b: 2.9716\n",
            "epoch: 7, loss: 0.0012, w: 1.9887, b: 2.9854\n",
            "epoch: 8, loss: 0.0003, w: 1.9941, b: 2.9925\n"
          ]
        }
      ]
    },
    {
      "cell_type": "markdown",
      "source": [
        "y=2x+3에서의 2,3에 각각 근사한 w,b값을 위에서 찾음!"
      ],
      "metadata": {
        "id": "RBfOzjkb-5C0"
      }
    },
    {
      "cell_type": "code",
      "source": [
        ""
      ],
      "metadata": {
        "id": "qIMXyNjQ8GfW"
      },
      "execution_count": null,
      "outputs": []
    }
  ]
}