{
  "nbformat": 4,
  "nbformat_minor": 0,
  "metadata": {
    "colab": {
      "name": "4.1_mnist_cnn.ipynb",
      "provenance": [],
      "collapsed_sections": [],
      "toc_visible": true,
      "authorship_tag": "ABX9TyPaf0c1mcINs8QFJ556goMi",
      "include_colab_link": true
    },
    "kernelspec": {
      "name": "python3",
      "display_name": "Python 3"
    },
    "language_info": {
      "name": "python"
    }
  },
  "cells": [
    {
      "cell_type": "markdown",
      "metadata": {
        "id": "view-in-github",
        "colab_type": "text"
      },
      "source": [
        "<a href=\"https://colab.research.google.com/github/lala991204/DL-self-study/blob/master/tensorflow/4_1_mnist_cnn.ipynb\" target=\"_parent\"><img src=\"https://colab.research.google.com/assets/colab-badge.svg\" alt=\"Open In Colab\"/></a>"
      ]
    },
    {
      "cell_type": "markdown",
      "source": [
        "간단한 모델을 생성해보자."
      ],
      "metadata": {
        "id": "1mwigHQwxYxT"
      }
    },
    {
      "cell_type": "markdown",
      "source": [
        "# 데이터 로드 및 전처리"
      ],
      "metadata": {
        "id": "NNfptBpOxeKi"
      }
    },
    {
      "cell_type": "code",
      "execution_count": 1,
      "metadata": {
        "id": "OPEXRGXAhNT9"
      },
      "outputs": [],
      "source": [
        "import tensorflow as tf\n",
        "import matplotlib.pyplot as plt"
      ]
    },
    {
      "cell_type": "code",
      "source": [
        "mnist = tf.keras.datasets.mnist\n",
        "(x_train, y_train), (x_valid, y_valid) = mnist.load_data()\n",
        "print(x_train.shape, y_train.shape)\n",
        "print(x_valid.shape, y_valid.shape) "
      ],
      "metadata": {
        "colab": {
          "base_uri": "https://localhost:8080/"
        },
        "id": "nu582dM8hWXC",
        "outputId": "3e4a48e5-e877-4401-fc38-3059a2456fd5"
      },
      "execution_count": 2,
      "outputs": [
        {
          "output_type": "stream",
          "name": "stdout",
          "text": [
            "Downloading data from https://storage.googleapis.com/tensorflow/tf-keras-datasets/mnist.npz\n",
            "11493376/11490434 [==============================] - 0s 0us/step\n",
            "11501568/11490434 [==============================] - 0s 0us/step\n",
            "(60000, 28, 28) (60000,)\n",
            "(10000, 28, 28) (10000,)\n"
          ]
        }
      ]
    },
    {
      "cell_type": "code",
      "source": [
        "# sample image 출력\n",
        "\n",
        "def plot_image(data, idx):\n",
        "    plt.figure(figsize=(5,5))\n",
        "    plt.imshow(data[idx], cmap='gray')\n",
        "    plt.axis(\"off\")\n",
        "    plt.show()\n",
        "\n",
        "plot_image(x_train, 0)"
      ],
      "metadata": {
        "colab": {
          "base_uri": "https://localhost:8080/",
          "height": 303
        },
        "id": "VwEWWxiNhuFz",
        "outputId": "e22bb1a7-e1cb-4589-83ca-4e210c3de9c2"
      },
      "execution_count": 3,
      "outputs": [
        {
          "output_type": "display_data",
          "data": {
            "text/plain": [
              "<Figure size 360x360 with 1 Axes>"
            ],
            "image/png": "[encoded data removed]"
          },
          "metadata": {
            "needs_background": "light"
          }
        }
      ]
    },
    {
      "cell_type": "code",
      "source": [
        "print(x_train.min(), x_train.max())\n",
        "print(x_valid.min(), x_valid.max())\n",
        "print('\\n')\n",
        "\n",
        "# Normalization (for stable training of deep learning model)\n",
        "x_train = x_train/255.0\n",
        "x_valid  = x_valid/255.0\n",
        "\n",
        "print(x_train.min(), x_train.max())\n",
        "print(x_valid.min(), x_valid.max())\n",
        "print('\\n')\n",
        "\n",
        "# channel 추가\n",
        "print(x_train.shape, x_valid.shape)\n",
        "x_train_in = x_train[..., tf.newaxis]\n",
        "x_valid_in = x_valid[..., tf.newaxis]\n",
        "print(x_train_in.shape, x_valid_in.shape)"
      ],
      "metadata": {
        "colab": {
          "base_uri": "https://localhost:8080/"
        },
        "id": "4aFmrir0h_Az",
        "outputId": "4f120db8-cf3f-4468-b124-1d8b47bfca6b"
      },
      "execution_count": 4,
      "outputs": [
        {
          "output_type": "stream",
          "name": "stdout",
          "text": [
            "0 255\n",
            "0 255\n",
            "\n",
            "\n",
            "0.0 1.0\n",
            "0.0 1.0\n",
            "\n",
            "\n",
            "(60000, 28, 28) (10000, 28, 28)\n",
            "(60000, 28, 28, 1) (10000, 28, 28, 1)\n"
          ]
        }
      ]
    },
    {
      "cell_type": "markdown",
      "source": [
        "mnist dataset은 색상을 나타내는 channel이 1개인 모노 컬러 이미지로 구성되며, CNN 모델에 주입하기 위해 색상을 나타내는 channel을 추가해준다."
      ],
      "metadata": {
        "id": "sZkNHhmpxzXO"
      }
    },
    {
      "cell_type": "markdown",
      "source": [
        "# Sequential API로 모델 생성 및 학습"
      ],
      "metadata": {
        "id": "4yAPcCnQxiSD"
      }
    },
    {
      "cell_type": "markdown",
      "source": [
        "Sequential API 이용하여 합성곱 레이어 1개, 풀링 레이어 1개를 적용하는 simple model을 만들어보자. "
      ],
      "metadata": {
        "id": "6s3apvOzzCSs"
      }
    },
    {
      "cell_type": "code",
      "source": [
        "# Sequential API 사용해 sample model 생성\n",
        "model = tf.keras.Sequential([\n",
        "        # Convolution 적용(32 filters)\n",
        "        tf.keras.layers.Conv2D(32, (3, 3), activation='relu',      # (3,3)크기의 서로 다른 32가지의 kernel(filter) 적용 => 32가지 종류의 피처(특징)추출.\n",
        "                               input_shape=(28,28,1), name='conv'),\n",
        "        # Max Pooling 적용\n",
        "        tf.keras.layers.MaxPooling2D((2, 2), name='pool'),\n",
        "        # Classifier 출력층\n",
        "        tf.keras.layers.Flatten(),                      # dense layer 적용 전에 1차원 배열로 펼쳐주는 과정 필요.\n",
        "        tf.keras.layers.Dense(10, activation='softmax'),           # 다중 분류 문제 -> softmax 이용!\n",
        "])\n",
        "\n",
        "# 모델 컴파일\n",
        "model.compile(optimizer='adam', loss='sparse_categorical_crossentropy',\n",
        "              metrics=['accuracy'])\n",
        "\n",
        "# 모델 훈련\n",
        "history = model.fit(x_train_in, y_train,\n",
        "          validation_data=(x_valid_in, y_valid),\n",
        "          epochs=10)"
      ],
      "metadata": {
        "colab": {
          "base_uri": "https://localhost:8080/"
        },
        "id": "lTaqhUwiiix7",
        "outputId": "9e92e6fa-62af-439b-a927-54cea424a65a"
      },
      "execution_count": 5,
      "outputs": [
        {
          "output_type": "stream",
          "name": "stdout",
          "text": [
            "Epoch 1/10\n",
            "1875/1875 [==============================] - 30s 15ms/step - loss: 0.2330 - accuracy: 0.9329 - val_loss: 0.1083 - val_accuracy: 0.9673\n",
            "Epoch 2/10\n",
            "1875/1875 [==============================] - 32s 17ms/step - loss: 0.0852 - accuracy: 0.9755 - val_loss: 0.0672 - val_accuracy: 0.9789\n",
            "Epoch 3/10\n",
            "1875/1875 [==============================] - 33s 17ms/step - loss: 0.0638 - accuracy: 0.9811 - val_loss: 0.0586 - val_accuracy: 0.9803\n",
            "Epoch 4/10\n",
            "1875/1875 [==============================] - 28s 15ms/step - loss: 0.0511 - accuracy: 0.9849 - val_loss: 0.0551 - val_accuracy: 0.9826\n",
            "Epoch 5/10\n",
            "1875/1875 [==============================] - 28s 15ms/step - loss: 0.0434 - accuracy: 0.9872 - val_loss: 0.0529 - val_accuracy: 0.9835\n",
            "Epoch 6/10\n",
            "1875/1875 [==============================] - 28s 15ms/step - loss: 0.0364 - accuracy: 0.9890 - val_loss: 0.0522 - val_accuracy: 0.9835\n",
            "Epoch 7/10\n",
            "1875/1875 [==============================] - 34s 18ms/step - loss: 0.0314 - accuracy: 0.9905 - val_loss: 0.0523 - val_accuracy: 0.9843\n",
            "Epoch 8/10\n",
            "1875/1875 [==============================] - 31s 17ms/step - loss: 0.0265 - accuracy: 0.9917 - val_loss: 0.0512 - val_accuracy: 0.9835\n",
            "Epoch 9/10\n",
            "1875/1875 [==============================] - 29s 15ms/step - loss: 0.0223 - accuracy: 0.9933 - val_loss: 0.0544 - val_accuracy: 0.9839\n",
            "Epoch 10/10\n",
            "1875/1875 [==============================] - 29s 16ms/step - loss: 0.0184 - accuracy: 0.9947 - val_loss: 0.0625 - val_accuracy: 0.9826\n"
          ]
        }
      ]
    },
    {
      "cell_type": "code",
      "source": [
        "# 모델의 학습된 가중치 이용하여 loss, metrics 계산\n",
        "model.evaluate(x_valid_in, y_valid)"
      ],
      "metadata": {
        "colab": {
          "base_uri": "https://localhost:8080/"
        },
        "id": "aZEhIVXy4qXE",
        "outputId": "b034befe-1f54-416b-9a6d-502e1db70b40"
      },
      "execution_count": 6,
      "outputs": [
        {
          "output_type": "stream",
          "name": "stdout",
          "text": [
            "313/313 [==============================] - 2s 6ms/step - loss: 0.0625 - accuracy: 0.9826\n"
          ]
        },
        {
          "output_type": "execute_result",
          "data": {
            "text/plain": [
              "[0.06248454004526138, 0.9825999736785889]"
            ]
          },
          "metadata": {},
          "execution_count": 6
        }
      ]
    },
    {
      "cell_type": "code",
      "source": [
        "def plot_loss_acc(history, epoch):\n",
        "    loss, val_loss = history.history['loss'], history.history['val_loss']\n",
        "    acc, val_acc = history.history['accuracy'], history.history['val_accuracy']\n",
        "\n",
        "    fig, axes = plt.subplots(1, 2, figsize=(12, 4))\n",
        "\n",
        "    axes[0].plot(range(1, epoch + 1), loss, label='Training')\n",
        "    axes[0].plot(range(1, epoch + 1), val_loss, label='Validation')\n",
        "    axes[0].legend(loc='best')\n",
        "    axes[0].set_title('Loss')\n",
        "\n",
        "    axes[1].plot(range(1, epoch + 1), acc, label='Training')\n",
        "    axes[1].plot(range(1, epoch + 1), val_acc, label='Validation')\n",
        "    axes[1].legend(loc='best')\n",
        "    axes[1].set_title('Accuracy')\n",
        "\n",
        "    plt.show()\n",
        "\n",
        "plot_loss_acc(history, 10)"
      ],
      "metadata": {
        "colab": {
          "base_uri": "https://localhost:8080/",
          "height": 281
        },
        "id": "TczZ4ZjX4pZg",
        "outputId": "2e15c924-f9ed-4c6b-c260-3aea7b9e04a2"
      },
      "execution_count": 7,
      "outputs": [
        {
          "output_type": "display_data",
          "data": {
            "text/plain": [
              "<Figure size 864x288 with 2 Axes>"
            ],
            "image/png": "[encoded data removed]"
          },
          "metadata": {
            "needs_background": "light"
          }
        }
      ]
    },
    {
      "cell_type": "markdown",
      "source": [
        "training set에 대한 loss는 줄어드는 반면, validation set에 대한 loss는 어느 수준에서 더 이상 낮아지지 않는다. 특히,\n",
        "4 epoch 이후부터 model이 overfitting(과대적합)으로 진행되었다는 것을 파악할 수 있다."
      ],
      "metadata": {
        "id": "ihVEvroE0xpc"
      }
    },
    {
      "cell_type": "markdown",
      "source": [
        "# 모델 구조 파악"
      ],
      "metadata": {
        "id": "IJOcb4HsxnbF"
      }
    },
    {
      "cell_type": "code",
      "source": [
        "model.summary()"
      ],
      "metadata": {
        "colab": {
          "base_uri": "https://localhost:8080/"
        },
        "id": "AJyWet0v5-xE",
        "outputId": "432183df-67a8-41fd-9de4-52f37f06c922"
      },
      "execution_count": 8,
      "outputs": [
        {
          "output_type": "stream",
          "name": "stdout",
          "text": [
            "Model: \"sequential\"\n",
            "_________________________________________________________________\n",
            " Layer (type)                Output Shape              Param #   \n",
            "=================================================================\n",
            " conv (Conv2D)               (None, 26, 26, 32)        320       \n",
            "                                                                 \n",
            " pool (MaxPooling2D)         (None, 13, 13, 32)        0         \n",
            "                                                                 \n",
            " flatten (Flatten)           (None, 5408)              0         \n",
            "                                                                 \n",
            " dense (Dense)               (None, 10)                54090     \n",
            "                                                                 \n",
            "=================================================================\n",
            "Total params: 54,410\n",
            "Trainable params: 54,410\n",
            "Non-trainable params: 0\n",
            "_________________________________________________________________\n"
          ]
        }
      ]
    },
    {
      "cell_type": "markdown",
      "source": [
        "가장 앞의 축(axis=0)의 None 값은 batch size가 들어오는 위치로서 어떤 값이든 가능하다는 의미이다."
      ],
      "metadata": {
        "id": "mgWnLvsX2nc6"
      }
    },
    {
      "cell_type": "code",
      "source": [
        "# 입력 텐서 형태\n",
        "print(model.input)\n",
        "\n",
        "# 출력 텐서 형태\n",
        "print(model.output)\n",
        "\n",
        "# 레이어\n",
        "print(model.layers)"
      ],
      "metadata": {
        "colab": {
          "base_uri": "https://localhost:8080/"
        },
        "id": "ftXyMwU56UjA",
        "outputId": "74de1b53-16d9-4a4b-d574-0fa98e1403f8"
      },
      "execution_count": 9,
      "outputs": [
        {
          "output_type": "stream",
          "name": "stdout",
          "text": [
            "KerasTensor(type_spec=TensorSpec(shape=(None, 28, 28, 1), dtype=tf.float32, name='conv_input'), name='conv_input', description=\"created by layer 'conv_input'\")\n",
            "KerasTensor(type_spec=TensorSpec(shape=(None, 10), dtype=tf.float32, name=None), name='dense/Softmax:0', description=\"created by layer 'dense'\")\n",
            "[<keras.layers.convolutional.Conv2D object at 0x7f0676c682d0>, <keras.layers.pooling.MaxPooling2D object at 0x7f0676cf5290>, <keras.layers.core.flatten.Flatten object at 0x7f0676c8ae90>, <keras.layers.core.dense.Dense object at 0x7f06767491d0>]\n"
          ]
        }
      ]
    },
    {
      "cell_type": "code",
      "source": [
        "## 첫 번째 레이어\n",
        "\n",
        "print(model.layers[0])\n",
        "print(model.layers[0].input)\n",
        "print(model.layers[0].output)\n",
        "print('\\n')\n",
        "\n",
        "print(model.layers[0].weights)     # 각 layer의 가중치 행렬 추출 가능!"
      ],
      "metadata": {
        "colab": {
          "base_uri": "https://localhost:8080/"
        },
        "id": "2ccTtqgh-L2K",
        "outputId": "eb34edb5-6344-4f06-a848-8126f03d48d0"
      },
      "execution_count": 10,
      "outputs": [
        {
          "output_type": "stream",
          "name": "stdout",
          "text": [
            "<keras.layers.convolutional.Conv2D object at 0x7f0676c682d0>\n",
            "KerasTensor(type_spec=TensorSpec(shape=(None, 28, 28, 1), dtype=tf.float32, name='conv_input'), name='conv_input', description=\"created by layer 'conv_input'\")\n",
            "KerasTensor(type_spec=TensorSpec(shape=(None, 26, 26, 32), dtype=tf.float32, name=None), name='conv/Relu:0', description=\"created by layer 'conv'\")\n",
            "\n",
            "\n",
            "[<tf.Variable 'conv/kernel:0' shape=(3, 3, 1, 32) dtype=float32, numpy=\n",
            "array([[[[ 1.62279382e-01, -6.07560202e-02,  3.68335217e-01,\n",
            "          -1.37127504e-01, -3.54800165e-01, -4.20060694e-01,\n",
            "           1.18194386e-01, -3.51800889e-01,  2.00519308e-01,\n",
            "          -9.82555449e-02,  1.63572446e-01, -5.77691257e-01,\n",
            "          -2.15348110e-01, -1.28780231e-02, -2.28566423e-01,\n",
            "           1.61815226e-01, -1.17647862e-02, -1.18486977e+00,\n",
            "          -7.41966844e-01,  4.74795192e-01,  3.14206868e-01,\n",
            "          -7.03584194e-01,  2.12674141e-01, -3.65741491e-01,\n",
            "           7.67235637e-01,  5.16525626e-01, -3.74836549e-02,\n",
            "           3.98467243e-01, -4.63050127e-01,  2.75596440e-01,\n",
            "          -3.45032990e-01,  5.05744278e-01]],\n",
            "\n",
            "        [[ 1.35215819e-01, -5.84737837e-01,  1.26649335e-01,\n",
            "           3.73684824e-01, -6.41687140e-02, -6.87296912e-02,\n",
            "           5.63119769e-01, -8.88104588e-02, -1.17230482e-01,\n",
            "           3.37205529e-01, -2.98772424e-01, -2.49888211e-01,\n",
            "          -1.27822593e-01,  5.35367131e-01, -5.37057996e-01,\n",
            "           2.22244337e-01,  9.89624858e-02, -1.05078495e+00,\n",
            "          -1.67007044e-01,  4.68819052e-01,  3.29456300e-01,\n",
            "          -8.79310071e-02,  7.49867439e-01, -2.70836800e-01,\n",
            "          -1.08270609e+00,  3.88270944e-01, -2.16055047e-02,\n",
            "           2.21864313e-01,  3.69132578e-01,  8.24098587e-02,\n",
            "           1.78403705e-01, -3.69184822e-01]],\n",
            "\n",
            "        [[ 1.00034311e-01,  6.42969847e-01, -2.86068678e-01,\n",
            "          -1.36659756e-01, -2.99296435e-03,  3.66472751e-01,\n",
            "           3.47143948e-01,  3.01470190e-01, -2.56092370e-01,\n",
            "          -2.93779699e-03, -6.69163227e-01,  1.55670181e-01,\n",
            "           1.90955065e-02,  3.94703776e-01, -2.55554467e-01,\n",
            "          -8.25949550e-01,  1.95807189e-01, -8.81207287e-01,\n",
            "           8.24177563e-01, -1.26598418e-01, -2.48889983e-01,\n",
            "           3.06246132e-01,  7.47868598e-01,  3.95939589e-01,\n",
            "          -1.59758732e-01, -7.36656129e-01,  1.79932371e-01,\n",
            "          -1.02998400e+00,  4.10558619e-02, -4.81679261e-01,\n",
            "           3.38699728e-01, -6.15449607e-01]]],\n",
            "\n",
            "\n",
            "       [[[-1.39382720e-01,  3.25167567e-01, -2.11461455e-01,\n",
            "          -1.18964841e-03,  3.71994615e-01,  1.06581949e-01,\n",
            "           4.42690343e-01,  4.08755168e-02, -7.18483508e-01,\n",
            "           2.04473063e-01,  3.85696627e-02,  7.70078972e-02,\n",
            "           3.13644797e-01, -6.10922813e-01,  1.31694078e-01,\n",
            "           8.74428973e-02, -1.56539261e-01,  3.41571480e-01,\n",
            "          -9.99250412e-01,  8.68629962e-02,  6.03905506e-02,\n",
            "          -4.82426852e-01, -5.35785317e-01, -9.83466446e-01,\n",
            "           6.79349422e-01,  6.95853233e-01, -1.65669918e-02,\n",
            "           4.15892839e-01, -2.81466842e-01,  6.78443760e-02,\n",
            "          -3.63333672e-02,  4.55323040e-01]],\n",
            "\n",
            "        [[ 1.24820225e-01, -8.70257556e-01,  2.65053719e-01,\n",
            "           3.06778610e-01,  4.53231961e-01,  2.77229786e-01,\n",
            "           2.28335589e-01,  1.85938731e-01, -2.63494067e-02,\n",
            "           9.15558860e-02, -1.97573076e-03,  4.36876804e-01,\n",
            "           2.94512570e-01,  4.06656533e-01,  4.36014116e-01,\n",
            "           5.09882510e-01,  8.04366469e-02,  2.90515155e-01,\n",
            "          -4.14697051e-01,  2.19396770e-01,  1.72607794e-01,\n",
            "           1.36229783e-01,  1.98708996e-01, -8.27762112e-02,\n",
            "          -1.27814925e+00,  2.41603985e-01,  4.48153988e-02,\n",
            "           1.87614888e-01,  3.29394728e-01,  1.89565733e-01,\n",
            "           3.27059299e-01,  2.00741157e-01]],\n",
            "\n",
            "        [[-2.95855820e-01, -1.90861911e-01, -2.08505854e-01,\n",
            "          -5.56116641e-01,  6.88656420e-02,  4.39163707e-02,\n",
            "          -4.32297975e-01,  9.92821753e-02,  4.31333125e-01,\n",
            "          -4.62144881e-01, -2.97035784e-01,  3.54584605e-01,\n",
            "           1.89878002e-01,  4.09894615e-01,  4.22817051e-01,\n",
            "          -5.11923768e-02, -1.77431125e-02,  2.37625316e-01,\n",
            "           4.43608433e-01, -5.94417572e-01,  2.11872727e-01,\n",
            "           4.57010299e-01,  2.60888875e-01,  8.12856436e-01,\n",
            "           5.85116923e-01, -1.30183721e+00,  7.27875084e-02,\n",
            "          -5.75409591e-01, -1.07948795e-01,  9.77075696e-02,\n",
            "          -2.42218152e-01, -1.53628647e-01]]],\n",
            "\n",
            "\n",
            "       [[[ 4.97682113e-03,  7.60620773e-01, -2.91659329e-02,\n",
            "          -2.55508393e-01, -3.78587879e-02,  2.98687816e-01,\n",
            "          -6.06278598e-01,  2.75366098e-01,  3.46024781e-01,\n",
            "          -2.18258739e-01,  1.42671824e-01,  2.02243105e-01,\n",
            "          -9.31057036e-02, -1.06717336e+00, -6.47658259e-02,\n",
            "          -6.75640643e-01,  1.61111712e-01,  6.35239899e-01,\n",
            "          -9.90926027e-01, -1.11944544e+00, -6.03981495e-01,\n",
            "           2.20297635e-01, -1.16468239e+00, -6.49174213e-01,\n",
            "          -2.07751498e-01, -2.82249182e-01,  2.03947589e-01,\n",
            "           1.76198795e-01, -3.14133734e-01, -1.13992572e-01,\n",
            "           3.87334496e-01, -1.58653155e-01]],\n",
            "\n",
            "        [[ 1.55982956e-01, -1.16793610e-01,  4.16327976e-02,\n",
            "           4.82844174e-01, -4.60634023e-01, -5.35699502e-02,\n",
            "          -7.20118225e-01, -1.49060348e-02,  2.95150131e-01,\n",
            "           5.10787442e-02,  5.27708232e-01, -8.28117877e-02,\n",
            "          -2.80606776e-01, -4.49179918e-01,  9.18181054e-03,\n",
            "           9.96173173e-02,  1.74445421e-01,  6.01379097e-01,\n",
            "          -3.85814697e-01, -1.04490399e+00, -2.22730607e-01,\n",
            "           3.66353601e-01, -1.09786987e+00,  1.78861365e-01,\n",
            "          -5.61631501e-01, -8.88555646e-01,  7.03403652e-02,\n",
            "           2.45880604e-01,  9.48207229e-02, -1.00679070e-01,\n",
            "           2.19347849e-01,  2.34196469e-01]],\n",
            "\n",
            "        [[ 2.36147851e-01, -3.54012311e-01,  3.59169632e-01,\n",
            "          -7.42640495e-02, -8.00900683e-02, -2.06364259e-01,\n",
            "          -4.99743998e-01, -1.55862615e-01, -4.02408153e-01,\n",
            "           3.44041884e-01,  5.14854848e-01, -5.43849945e-01,\n",
            "          -2.10565895e-01,  2.03791354e-02, -4.11401033e-01,\n",
            "           2.50279248e-01,  4.30553779e-02,  1.35494575e-01,\n",
            "           2.07287390e-02, -9.90659595e-01,  2.95159638e-01,\n",
            "           2.43729092e-02, -5.75303137e-01,  6.27193987e-01,\n",
            "           6.37902617e-01, -1.19065523e+00, -4.50986885e-02,\n",
            "           7.89001137e-02,  2.97697186e-01,  3.42362702e-01,\n",
            "          -5.20459592e-01,  4.14789706e-01]]]], dtype=float32)>, <tf.Variable 'conv/bias:0' shape=(32,) dtype=float32, numpy=\n",
            "array([-0.3240827 , -0.0126978 , -0.34060857, -0.19895746, -0.0044928 ,\n",
            "       -0.3316594 , -0.02876274, -0.2908599 , -0.00237737, -0.25074667,\n",
            "       -0.19509496, -0.11049102, -0.08201238, -0.101666  ,  0.00301857,\n",
            "       -0.20980729, -0.34629855, -0.01320264, -0.00846816,  0.20918182,\n",
            "       -0.32063144, -0.3325088 , -0.02302908, -0.13179709,  0.00472157,\n",
            "        0.04315751, -0.2947197 , -0.34543288, -0.32301605, -0.35353848,\n",
            "       -0.32340282, -0.4626878 ], dtype=float32)>]\n"
          ]
        }
      ]
    },
    {
      "cell_type": "markdown",
      "source": [
        "텐서플로 변수(tf.Variable)는 가중치와 같이 모델 학습 과정에 값이 업데이트되는 경우 사용한다. 위에서 보다시피, 커널(합성곱 필터) 행렬의 가중치와 각 커널의 상수항(bias)를 나타내는 변수가 있다."
      ],
      "metadata": {
        "id": "fT79oEiu5XVt"
      }
    },
    {
      "cell_type": "code",
      "source": [
        "# kernel 행렬의 가중치 또는 상수항을 따로 선택 가능.\n",
        "print(model.layers[0].kernel)"
      ],
      "metadata": {
        "colab": {
          "base_uri": "https://localhost:8080/"
        },
        "id": "e35EM6kl4z7O",
        "outputId": "01d0665b-b97d-4518-8aae-0d9b8e65126e"
      },
      "execution_count": 11,
      "outputs": [
        {
          "output_type": "stream",
          "name": "stdout",
          "text": [
            "<tf.Variable 'conv/kernel:0' shape=(3, 3, 1, 32) dtype=float32, numpy=\n",
            "array([[[[ 1.62279382e-01, -6.07560202e-02,  3.68335217e-01,\n",
            "          -1.37127504e-01, -3.54800165e-01, -4.20060694e-01,\n",
            "           1.18194386e-01, -3.51800889e-01,  2.00519308e-01,\n",
            "          -9.82555449e-02,  1.63572446e-01, -5.77691257e-01,\n",
            "          -2.15348110e-01, -1.28780231e-02, -2.28566423e-01,\n",
            "           1.61815226e-01, -1.17647862e-02, -1.18486977e+00,\n",
            "          -7.41966844e-01,  4.74795192e-01,  3.14206868e-01,\n",
            "          -7.03584194e-01,  2.12674141e-01, -3.65741491e-01,\n",
            "           7.67235637e-01,  5.16525626e-01, -3.74836549e-02,\n",
            "           3.98467243e-01, -4.63050127e-01,  2.75596440e-01,\n",
            "          -3.45032990e-01,  5.05744278e-01]],\n",
            "\n",
            "        [[ 1.35215819e-01, -5.84737837e-01,  1.26649335e-01,\n",
            "           3.73684824e-01, -6.41687140e-02, -6.87296912e-02,\n",
            "           5.63119769e-01, -8.88104588e-02, -1.17230482e-01,\n",
            "           3.37205529e-01, -2.98772424e-01, -2.49888211e-01,\n",
            "          -1.27822593e-01,  5.35367131e-01, -5.37057996e-01,\n",
            "           2.22244337e-01,  9.89624858e-02, -1.05078495e+00,\n",
            "          -1.67007044e-01,  4.68819052e-01,  3.29456300e-01,\n",
            "          -8.79310071e-02,  7.49867439e-01, -2.70836800e-01,\n",
            "          -1.08270609e+00,  3.88270944e-01, -2.16055047e-02,\n",
            "           2.21864313e-01,  3.69132578e-01,  8.24098587e-02,\n",
            "           1.78403705e-01, -3.69184822e-01]],\n",
            "\n",
            "        [[ 1.00034311e-01,  6.42969847e-01, -2.86068678e-01,\n",
            "          -1.36659756e-01, -2.99296435e-03,  3.66472751e-01,\n",
            "           3.47143948e-01,  3.01470190e-01, -2.56092370e-01,\n",
            "          -2.93779699e-03, -6.69163227e-01,  1.55670181e-01,\n",
            "           1.90955065e-02,  3.94703776e-01, -2.55554467e-01,\n",
            "          -8.25949550e-01,  1.95807189e-01, -8.81207287e-01,\n",
            "           8.24177563e-01, -1.26598418e-01, -2.48889983e-01,\n",
            "           3.06246132e-01,  7.47868598e-01,  3.95939589e-01,\n",
            "          -1.59758732e-01, -7.36656129e-01,  1.79932371e-01,\n",
            "          -1.02998400e+00,  4.10558619e-02, -4.81679261e-01,\n",
            "           3.38699728e-01, -6.15449607e-01]]],\n",
            "\n",
            "\n",
            "       [[[-1.39382720e-01,  3.25167567e-01, -2.11461455e-01,\n",
            "          -1.18964841e-03,  3.71994615e-01,  1.06581949e-01,\n",
            "           4.42690343e-01,  4.08755168e-02, -7.18483508e-01,\n",
            "           2.04473063e-01,  3.85696627e-02,  7.70078972e-02,\n",
            "           3.13644797e-01, -6.10922813e-01,  1.31694078e-01,\n",
            "           8.74428973e-02, -1.56539261e-01,  3.41571480e-01,\n",
            "          -9.99250412e-01,  8.68629962e-02,  6.03905506e-02,\n",
            "          -4.82426852e-01, -5.35785317e-01, -9.83466446e-01,\n",
            "           6.79349422e-01,  6.95853233e-01, -1.65669918e-02,\n",
            "           4.15892839e-01, -2.81466842e-01,  6.78443760e-02,\n",
            "          -3.63333672e-02,  4.55323040e-01]],\n",
            "\n",
            "        [[ 1.24820225e-01, -8.70257556e-01,  2.65053719e-01,\n",
            "           3.06778610e-01,  4.53231961e-01,  2.77229786e-01,\n",
            "           2.28335589e-01,  1.85938731e-01, -2.63494067e-02,\n",
            "           9.15558860e-02, -1.97573076e-03,  4.36876804e-01,\n",
            "           2.94512570e-01,  4.06656533e-01,  4.36014116e-01,\n",
            "           5.09882510e-01,  8.04366469e-02,  2.90515155e-01,\n",
            "          -4.14697051e-01,  2.19396770e-01,  1.72607794e-01,\n",
            "           1.36229783e-01,  1.98708996e-01, -8.27762112e-02,\n",
            "          -1.27814925e+00,  2.41603985e-01,  4.48153988e-02,\n",
            "           1.87614888e-01,  3.29394728e-01,  1.89565733e-01,\n",
            "           3.27059299e-01,  2.00741157e-01]],\n",
            "\n",
            "        [[-2.95855820e-01, -1.90861911e-01, -2.08505854e-01,\n",
            "          -5.56116641e-01,  6.88656420e-02,  4.39163707e-02,\n",
            "          -4.32297975e-01,  9.92821753e-02,  4.31333125e-01,\n",
            "          -4.62144881e-01, -2.97035784e-01,  3.54584605e-01,\n",
            "           1.89878002e-01,  4.09894615e-01,  4.22817051e-01,\n",
            "          -5.11923768e-02, -1.77431125e-02,  2.37625316e-01,\n",
            "           4.43608433e-01, -5.94417572e-01,  2.11872727e-01,\n",
            "           4.57010299e-01,  2.60888875e-01,  8.12856436e-01,\n",
            "           5.85116923e-01, -1.30183721e+00,  7.27875084e-02,\n",
            "          -5.75409591e-01, -1.07948795e-01,  9.77075696e-02,\n",
            "          -2.42218152e-01, -1.53628647e-01]]],\n",
            "\n",
            "\n",
            "       [[[ 4.97682113e-03,  7.60620773e-01, -2.91659329e-02,\n",
            "          -2.55508393e-01, -3.78587879e-02,  2.98687816e-01,\n",
            "          -6.06278598e-01,  2.75366098e-01,  3.46024781e-01,\n",
            "          -2.18258739e-01,  1.42671824e-01,  2.02243105e-01,\n",
            "          -9.31057036e-02, -1.06717336e+00, -6.47658259e-02,\n",
            "          -6.75640643e-01,  1.61111712e-01,  6.35239899e-01,\n",
            "          -9.90926027e-01, -1.11944544e+00, -6.03981495e-01,\n",
            "           2.20297635e-01, -1.16468239e+00, -6.49174213e-01,\n",
            "          -2.07751498e-01, -2.82249182e-01,  2.03947589e-01,\n",
            "           1.76198795e-01, -3.14133734e-01, -1.13992572e-01,\n",
            "           3.87334496e-01, -1.58653155e-01]],\n",
            "\n",
            "        [[ 1.55982956e-01, -1.16793610e-01,  4.16327976e-02,\n",
            "           4.82844174e-01, -4.60634023e-01, -5.35699502e-02,\n",
            "          -7.20118225e-01, -1.49060348e-02,  2.95150131e-01,\n",
            "           5.10787442e-02,  5.27708232e-01, -8.28117877e-02,\n",
            "          -2.80606776e-01, -4.49179918e-01,  9.18181054e-03,\n",
            "           9.96173173e-02,  1.74445421e-01,  6.01379097e-01,\n",
            "          -3.85814697e-01, -1.04490399e+00, -2.22730607e-01,\n",
            "           3.66353601e-01, -1.09786987e+00,  1.78861365e-01,\n",
            "          -5.61631501e-01, -8.88555646e-01,  7.03403652e-02,\n",
            "           2.45880604e-01,  9.48207229e-02, -1.00679070e-01,\n",
            "           2.19347849e-01,  2.34196469e-01]],\n",
            "\n",
            "        [[ 2.36147851e-01, -3.54012311e-01,  3.59169632e-01,\n",
            "          -7.42640495e-02, -8.00900683e-02, -2.06364259e-01,\n",
            "          -4.99743998e-01, -1.55862615e-01, -4.02408153e-01,\n",
            "           3.44041884e-01,  5.14854848e-01, -5.43849945e-01,\n",
            "          -2.10565895e-01,  2.03791354e-02, -4.11401033e-01,\n",
            "           2.50279248e-01,  4.30553779e-02,  1.35494575e-01,\n",
            "           2.07287390e-02, -9.90659595e-01,  2.95159638e-01,\n",
            "           2.43729092e-02, -5.75303137e-01,  6.27193987e-01,\n",
            "           6.37902617e-01, -1.19065523e+00, -4.50986885e-02,\n",
            "           7.89001137e-02,  2.97697186e-01,  3.42362702e-01,\n",
            "          -5.20459592e-01,  4.14789706e-01]]]], dtype=float32)>\n"
          ]
        }
      ]
    },
    {
      "cell_type": "markdown",
      "source": [
        "위에서 (3,3)는 filter size, (1)은 input layer의 channel 개수, (32)는 output layer의 channel 개수. 따라서, layer[0]의 커널의 학습(update)가능한 파라미터의 수는 3*3*1*32 = 288개이다."
      ],
      "metadata": {
        "id": "blU1dDUF6BUS"
      }
    },
    {
      "cell_type": "code",
      "source": [
        "print(model.layers[0].bias)"
      ],
      "metadata": {
        "colab": {
          "base_uri": "https://localhost:8080/"
        },
        "id": "0XvCQnL556yQ",
        "outputId": "6114e47c-a215-4c8e-c6c0-584902d9e5da"
      },
      "execution_count": 12,
      "outputs": [
        {
          "output_type": "stream",
          "name": "stdout",
          "text": [
            "<tf.Variable 'conv/bias:0' shape=(32,) dtype=float32, numpy=\n",
            "array([-0.3240827 , -0.0126978 , -0.34060857, -0.19895746, -0.0044928 ,\n",
            "       -0.3316594 , -0.02876274, -0.2908599 , -0.00237737, -0.25074667,\n",
            "       -0.19509496, -0.11049102, -0.08201238, -0.101666  ,  0.00301857,\n",
            "       -0.20980729, -0.34629855, -0.01320264, -0.00846816,  0.20918182,\n",
            "       -0.32063144, -0.3325088 , -0.02302908, -0.13179709,  0.00472157,\n",
            "        0.04315751, -0.2947197 , -0.34543288, -0.32301605, -0.35353848,\n",
            "       -0.32340282, -0.4626878 ], dtype=float32)>\n"
          ]
        }
      ]
    },
    {
      "cell_type": "markdown",
      "source": [
        "위에서 상수항(bias) 가중치의 shape은 (32,)이고, 이는 출력층의 채널 수.\n",
        "따라서, layer[0]의 총 학습 가능 파라미터 수는 커널과 상수항을 더한 288+32=320개."
      ],
      "metadata": {
        "id": "eAxqGrTI6tGw"
      }
    },
    {
      "cell_type": "code",
      "source": [
        "# 레이어 이름 사용하여 레이어 선택\n",
        "print(model.get_layer('conv'))\n",
        "\n",
        "# sample image의 layer별 출력을 리스트에 추가(첫,두번째 레이어) => 이를 최종 출력으로 갖는 activator 모델 정의\n",
        "activator = tf.keras.Model(inputs=model.input,\n",
        "                           outputs=[layer.output for layer in model.layers[:2]])\n",
        "\n",
        "# 첫 번째 샘플에 대해 각 layer의 출력 예측!\n",
        "activations = activator.predict(x_train_in[0][tf.newaxis, ...])\n",
        "print(len(activations))"
      ],
      "metadata": {
        "colab": {
          "base_uri": "https://localhost:8080/"
        },
        "id": "UtRruY4Q-I6n",
        "outputId": "a3b9a43c-49e5-49e5-d56a-9f904b55bd3e"
      },
      "execution_count": 14,
      "outputs": [
        {
          "output_type": "stream",
          "name": "stdout",
          "text": [
            "<keras.layers.convolutional.Conv2D object at 0x7f0676c682d0>\n",
            "2\n"
          ]
        }
      ]
    },
    {
      "cell_type": "code",
      "source": [
        "# 첫 번째 레이어(conv) 출력층\n",
        "conv_activation = activations[0]\n",
        "print(conv_activation.shape)     # 1: input image의 개수 즉, sample이 1개라는 뜻.\n",
        "\n",
        "# Convolution 시각화(첫 번째 layer에서 출력되는 feature map image를 32개 커널별로 구분하여)\n",
        "fig, axes = plt.subplots(4, 8)\n",
        "fig.set_size_inches(10, 5)\n",
        "\n",
        "for i in range(32):\n",
        "    axes[i//8, i%8].matshow(conv_activation[0,:,:,i], cmap='viridis')      # 각 커널에 해당하는 부분 출력\n",
        "    axes[i//8, i%8].set_title('kernel %s'%str(i), fontsize=10)\n",
        "    plt.setp(axes[i//8, i%8].get_xticklabels(), visible=False) \n",
        "    plt.setp(axes[i//8, i%8].get_yticklabels(), visible=False)\n",
        "\n",
        "plt.tight_layout()\n",
        "plt.show"
      ],
      "metadata": {
        "colab": {
          "base_uri": "https://localhost:8080/",
          "height": 405
        },
        "id": "LvRx0JF06Uek",
        "outputId": "cfdaac83-8000-480b-bfe0-fa5c497b67d0"
      },
      "execution_count": 15,
      "outputs": [
        {
          "output_type": "stream",
          "name": "stdout",
          "text": [
            "(1, 26, 26, 32)\n"
          ]
        },
        {
          "output_type": "execute_result",
          "data": {
            "text/plain": [
              "<function matplotlib.pyplot.show>"
            ]
          },
          "metadata": {},
          "execution_count": 15
        },
        {
          "output_type": "display_data",
          "data": {
            "text/plain": [
              "<Figure size 720x360 with 32 Axes>"
            ],
            "image/png": "[encoded data removed]"
          },
          "metadata": {}
        }
      ]
    },
    {
      "cell_type": "markdown",
      "source": [
        "이처럼 각 커널은 input image로부터 서로 다른 feature(특징) 추출하는 역할."
      ],
      "metadata": {
        "id": "JZf1gGW-9i_7"
      }
    },
    {
      "cell_type": "code",
      "source": [
        "# 두 번째 레이어(pool) 출력층\n",
        "pooling_activation = activations[1]\n",
        "print(pooling_activation.shape)\n",
        "\n",
        "# 시각화\n",
        "fig, axes = plt.subplots(4, 8)\n",
        "fig.set_size_inches(10, 5)\n",
        "\n",
        "for i in range(32):\n",
        "    axes[i//8, i%8].matshow(pooling_activation[0,:,:,i], cmap='viridis')\n",
        "    axes[i//8, i%8].set_title('kernel %s'%str(i), fontsize=10)\n",
        "    plt.setp(axes[i//8, i%8].get_xticklabels(), visible=False)\n",
        "    plt.setp(axes[i//8, i%8].get_yticklabels(), visible=False)\n",
        "\n",
        "plt.tight_layout()\n",
        "plt.show"
      ],
      "metadata": {
        "colab": {
          "base_uri": "https://localhost:8080/",
          "height": 405
        },
        "id": "VnMGJ6Cb-d6G",
        "outputId": "8fe8f2b6-6fe3-46cc-f783-8a34e7861216"
      },
      "execution_count": 16,
      "outputs": [
        {
          "output_type": "stream",
          "name": "stdout",
          "text": [
            "(1, 13, 13, 32)\n"
          ]
        },
        {
          "output_type": "execute_result",
          "data": {
            "text/plain": [
              "<function matplotlib.pyplot.show>"
            ]
          },
          "metadata": {},
          "execution_count": 16
        },
        {
          "output_type": "display_data",
          "data": {
            "text/plain": [
              "<Figure size 720x360 with 32 Axes>"
            ],
            "image/png": "[encoded data removed]"
          },
          "metadata": {}
        }
      ]
    },
    {
      "cell_type": "markdown",
      "source": [
        "Conv2D 출력 이미지에 비해 화소 크기가 굵어진 것을 볼 수 있다.\n",
        "max pooling은 인근 pixel들을 모아 최대값으로 고정하기 때문에 픽셀 수는 줄이면서 특징을 더욱 강하게 드러내는 효과."
      ],
      "metadata": {
        "id": "wy1hQHZo9-9j"
      }
    },
    {
      "cell_type": "code",
      "source": [
        ""
      ],
      "metadata": {
        "id": "lVRA6p-b_Wm3"
      },
      "execution_count": null,
      "outputs": []
    }
  ]
}