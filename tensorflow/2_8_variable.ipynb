{
  "nbformat": 4,
  "nbformat_minor": 0,
  "metadata": {
    "colab": {
      "name": "2.8_variable.ipynb",
      "provenance": [],
      "authorship_tag": "ABX9TyPkt/n/9ljKpW0ebJN/9Kbh",
      "include_colab_link": true
    },
    "kernelspec": {
      "name": "python3",
      "display_name": "Python 3"
    },
    "language_info": {
      "name": "python"
    }
  },
  "cells": [
    {
      "cell_type": "markdown",
      "metadata": {
        "id": "view-in-github",
        "colab_type": "text"
      },
      "source": [
        "<a href=\"https://colab.research.google.com/github/lala991204/DL-self-study/blob/master/2_8_variable.ipynb\" target=\"_parent\"><img src=\"https://colab.research.google.com/assets/colab-badge.svg\" alt=\"Open In Colab\"/></a>"
      ]
    },
    {
      "cell_type": "code",
      "execution_count": 4,
      "metadata": {
        "colab": {
          "base_uri": "https://localhost:8080/"
        },
        "id": "YT5vgd12ig0p",
        "outputId": "75602273-15fa-4b0d-d2af-82e722137791"
      },
      "outputs": [
        {
          "output_type": "stream",
          "name": "stdout",
          "text": [
            "tf.Tensor(\n",
            "[[0 1 2]\n",
            " [3 4 5]], shape=(2, 3), dtype=int32)\n",
            "<tf.Variable 'Variable:0' shape=(2, 3) dtype=int32, numpy=\n",
            "array([[0, 1, 2],\n",
            "       [3, 4, 5]], dtype=int32)>\n",
            "이름: Variable:0\n",
            "크기: (2, 3)\n",
            "자료형: <dtype: 'int32'>\n",
            "배열: [[0 1 2]\n",
            " [3 4 5]]\n"
          ]
        }
      ],
      "source": [
        "import tensorflow as tf\n",
        "\n",
        "# 텐서 정의\n",
        "tensor1 = tf.constant([[0, 1, 2],\n",
        "                       [3, 4, 5]])\n",
        "print(tensor1)\n",
        "\n",
        "\n",
        "\n",
        "tensor_var1 = tf.Variable(tensor1)\n",
        "print(tensor_var1)\n",
        "print(\"이름:\", tensor_var1.name)\n",
        "print(\"크기:\", tensor_var1.shape)\n",
        "print(\"자료형:\", tensor_var1.dtype)\n",
        "print(\"배열:\", tensor_var1.numpy())"
      ]
    },
    {
      "cell_type": "code",
      "source": [
        "tensor_var1.assign([[1,1,1],\n",
        "                    [2,2,2]])\n",
        "print(tensor_var1)\n",
        "\n",
        "\n",
        "tensor2 = tf.convert_to_tensor(tensor_var1)\n",
        "print(tensor2)\n",
        "\n",
        "tensor_var2 = tf.Variable(tensor2, name='New Name')\n",
        "print(tensor_var2.name)\n",
        "\n",
        "tensor_var1 + tensor_var2"
      ],
      "metadata": {
        "colab": {
          "base_uri": "https://localhost:8080/"
        },
        "id": "vaP18LA5i8gz",
        "outputId": "4841a051-d274-4668-f2bf-f0bd3c70e555"
      },
      "execution_count": 6,
      "outputs": [
        {
          "output_type": "stream",
          "name": "stdout",
          "text": [
            "<tf.Variable 'Variable:0' shape=(2, 3) dtype=int32, numpy=\n",
            "array([[1, 1, 1],\n",
            "       [2, 2, 2]], dtype=int32)>\n",
            "tf.Tensor(\n",
            "[[1 1 1]\n",
            " [2 2 2]], shape=(2, 3), dtype=int32)\n",
            "New Name:0\n"
          ]
        },
        {
          "output_type": "execute_result",
          "data": {
            "text/plain": [
              "<tf.Tensor: shape=(2, 3), dtype=int32, numpy=\n",
              "array([[2, 2, 2],\n",
              "       [4, 4, 4]], dtype=int32)>"
            ]
          },
          "metadata": {},
          "execution_count": 6
        }
      ]
    },
    {
      "cell_type": "code",
      "source": [
        ""
      ],
      "metadata": {
        "id": "g-Vd-SdjkIRU"
      },
      "execution_count": null,
      "outputs": []
    }
  ]
}
