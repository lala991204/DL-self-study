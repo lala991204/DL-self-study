{
  "nbformat": 4,
  "nbformat_minor": 0,
  "metadata": {
    "colab": {
      "name": "2.4_matrix.ipynb",
      "provenance": [],
      "authorship_tag": "ABX9TyMBhlJJ1H0E2kTHT2hAURy1",
      "include_colab_link": true
    },
    "kernelspec": {
      "name": "python3",
      "display_name": "Python 3"
    },
    "language_info": {
      "name": "python"
    }
  },
  "cells": [
    {
      "cell_type": "markdown",
      "metadata": {
        "id": "view-in-github",
        "colab_type": "text"
      },
      "source": [
        "<a href=\"https://colab.research.google.com/github/lala991204/DL-self-study/blob/master/2_4_matrix.ipynb\" target=\"_parent\"><img src=\"https://colab.research.google.com/assets/colab-badge.svg\" alt=\"Open In Colab\"/></a>"
      ]
    },
    {
      "cell_type": "code",
      "execution_count": 1,
      "metadata": {
        "colab": {
          "base_uri": "https://localhost:8080/"
        },
        "id": "5uxESQh0B_S9",
        "outputId": "bc7d1ee4-de3e-481c-8e9e-8fc1efa75ccb"
      },
      "outputs": [
        {
          "output_type": "stream",
          "name": "stdout",
          "text": [
            "rank: tf.Tensor(2, shape=(), dtype=int32)\n",
            "mat1: tf.Tensor(\n",
            "[[10 20]\n",
            " [30 40]], shape=(2, 2), dtype=int32)\n"
          ]
        }
      ],
      "source": [
        "import tensorflow as tf\n",
        "\n",
        "# 2차원 배열 정의\n",
        "list_of_list = [[10, 20], [30, 40]]\n",
        "\n",
        "# 텐서 변환\n",
        "mat1 = tf.constant(list_of_list)\n",
        "\n",
        "print(\"rank:\", tf.rank(mat1))\n",
        "print(\"mat1:\", mat1)"
      ]
    },
    {
      "cell_type": "code",
      "source": [
        "# 1차원 벡터 정의\n",
        "vec1 = tf.constant([1, 0])\n",
        "vec2 = tf.constant([-1, 2])\n",
        "\n",
        "# 텐서 변환\n",
        "mat2 = tf.stack([vec1, vec2])\n",
        "\n",
        "print(\"rank:\", tf.rank(mat2))\n",
        "print(\"mat2:\", mat2)"
      ],
      "metadata": {
        "colab": {
          "base_uri": "https://localhost:8080/"
        },
        "id": "Xz3oq7CCCmY0",
        "outputId": "b5bbbdd1-04ed-493b-ce8b-86f9c6ddeac9"
      },
      "execution_count": 2,
      "outputs": [
        {
          "output_type": "stream",
          "name": "stdout",
          "text": [
            "rank: tf.Tensor(2, shape=(), dtype=int32)\n",
            "mat2: tf.Tensor(\n",
            "[[ 1  0]\n",
            " [-1  2]], shape=(2, 2), dtype=int32)\n"
          ]
        }
      ]
    },
    {
      "cell_type": "code",
      "source": [
        "# element-by-element 연산\n",
        "element_mul = tf.math.multiply(mat1, mat2)\n",
        "print(\"result:\", element_mul)\n",
        "print(\"rank:\", tf.rank(element_mul))"
      ],
      "metadata": {
        "colab": {
          "base_uri": "https://localhost:8080/"
        },
        "id": "kj-tQBD8DA39",
        "outputId": "681828a0-e99c-4331-afa5-d18ac4dadf3a"
      },
      "execution_count": 3,
      "outputs": [
        {
          "output_type": "stream",
          "name": "stdout",
          "text": [
            "result: tf.Tensor(\n",
            "[[ 10   0]\n",
            " [-30  80]], shape=(2, 2), dtype=int32)\n",
            "rank: tf.Tensor(2, shape=(), dtype=int32)\n"
          ]
        }
      ]
    },
    {
      "cell_type": "code",
      "source": [
        "# 브로드캐스팅 연산\n",
        "element_bc = tf.math.multiply(mat1, 3)\n",
        "print(\"result:\", element_bc)\n",
        "print(\"rank:\", tf.rank(element_bc))"
      ],
      "metadata": {
        "colab": {
          "base_uri": "https://localhost:8080/"
        },
        "id": "aCy2vNm5DUYW",
        "outputId": "56b374ef-6482-4184-a8ea-ee0827ec3913"
      },
      "execution_count": 4,
      "outputs": [
        {
          "output_type": "stream",
          "name": "stdout",
          "text": [
            "result: tf.Tensor(\n",
            "[[ 30  60]\n",
            " [ 90 120]], shape=(2, 2), dtype=int32)\n",
            "rank: tf.Tensor(2, shape=(), dtype=int32)\n"
          ]
        }
      ]
    },
    {
      "cell_type": "code",
      "source": [
        "# 행렬곱 연산\n",
        "mat_mul = tf.matmul(mat1, mat2)\n",
        "print(\"result:\", mat_mul)\n",
        "print(\"rank:\", tf.rank(mat_mul))"
      ],
      "metadata": {
        "colab": {
          "base_uri": "https://localhost:8080/"
        },
        "id": "kn5rmLGeDjwN",
        "outputId": "09a2d74d-b09f-4437-832e-d65cc58dfa6b"
      },
      "execution_count": 5,
      "outputs": [
        {
          "output_type": "stream",
          "name": "stdout",
          "text": [
            "result: tf.Tensor(\n",
            "[[-10  40]\n",
            " [-10  80]], shape=(2, 2), dtype=int32)\n",
            "rank: tf.Tensor(2, shape=(), dtype=int32)\n"
          ]
        }
      ]
    },
    {
      "cell_type": "code",
      "source": [
        "# 덧셈 연산\n",
        "add1 = tf.math.add(mat1, mat2)\n",
        "print(\"result:\", add1)\n",
        "print(\"rank:\", tf.rank(add1))\n",
        "\n",
        "add2 = mat1 + mat2\n",
        "print(\"result:\", add2)\n",
        "print(\"rank:\", tf.rank(add2))"
      ],
      "metadata": {
        "colab": {
          "base_uri": "https://localhost:8080/"
        },
        "id": "y7pUN3vfDw59",
        "outputId": "ec82df48-b3c9-4b7e-be55-e4a6c6c40583"
      },
      "execution_count": 7,
      "outputs": [
        {
          "output_type": "stream",
          "name": "stdout",
          "text": [
            "result: tf.Tensor(\n",
            "[[11 20]\n",
            " [29 42]], shape=(2, 2), dtype=int32)\n",
            "rank: tf.Tensor(2, shape=(), dtype=int32)\n",
            "result: tf.Tensor(\n",
            "[[11 20]\n",
            " [29 42]], shape=(2, 2), dtype=int32)\n",
            "rank: tf.Tensor(2, shape=(), dtype=int32)\n"
          ]
        }
      ]
    },
    {
      "cell_type": "code",
      "source": [
        "# 텐서를 넘파이로 변환\n",
        "np_arr = mat_mul.numpy()\n",
        "print(type(np_arr))\n",
        "print(np_arr)"
      ],
      "metadata": {
        "colab": {
          "base_uri": "https://localhost:8080/"
        },
        "id": "u6J3t3-lEBv7",
        "outputId": "438e10dc-6e78-4e32-e857-2c4fda8e63f1"
      },
      "execution_count": 8,
      "outputs": [
        {
          "output_type": "stream",
          "name": "stdout",
          "text": [
            "<class 'numpy.ndarray'>\n",
            "[[-10  40]\n",
            " [-10  80]]\n"
          ]
        }
      ]
    },
    {
      "cell_type": "code",
      "source": [
        ""
      ],
      "metadata": {
        "id": "3yQcjjYOEawy"
      },
      "execution_count": null,
      "outputs": []
    }
  ]
}
