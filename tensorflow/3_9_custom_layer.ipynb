{
  "nbformat": 4,
  "nbformat_minor": 0,
  "metadata": {
    "colab": {
      "name": "3.9_custom_layer.ipynb",
      "provenance": [],
      "collapsed_sections": [],
      "toc_visible": true,
      "authorship_tag": "ABX9TyN9Fr3qw3K7WnV7bGGEE9Sq",
      "include_colab_link": true
    },
    "kernelspec": {
      "name": "python3",
      "display_name": "Python 3"
    },
    "language_info": {
      "name": "python"
    }
  },
  "cells": [
    {
      "cell_type": "markdown",
      "metadata": {
        "id": "view-in-github",
        "colab_type": "text"
      },
      "source": [
        "<a href=\"https://colab.research.google.com/github/lala991204/DL-self-study/blob/master/tensorflow/3_9_custom_layer.ipynb\" target=\"_parent\"><img src=\"https://colab.research.google.com/assets/colab-badge.svg\" alt=\"Open In Colab\"/></a>"
      ]
    },
    {
      "cell_type": "code",
      "execution_count": null,
      "metadata": {
        "id": "O4TRKzjU25jA"
      },
      "outputs": [],
      "source": [
        "import numpy as np\n",
        "import tensorflow as tf\n",
        "from tensorflow.keras.layers import Layer"
      ]
    },
    {
      "cell_type": "markdown",
      "source": [
        "텐서플로가 제공하는 레이어를 상속받아 필요한 부분만 수정해 변경할 수도 있고, 완전히 새로운 레이어를 정의하여 사용할 수도 있다."
      ],
      "metadata": {
        "id": "DlHwX3GTn0WV"
      }
    },
    {
      "cell_type": "code",
      "source": [
        "class MyDense(Layer):\n",
        "    def __init__(self, units=32, input_shape=None):\n",
        "        super(MyDense, self).__init__(input_shape=input_shape)      # MyDense가 Layer를 상속받아 input_shape, units 값을 넣는다.\n",
        "        self.units = units\n",
        "\n",
        "    def build(self, input_shape):\n",
        "        # weight 초기화\n",
        "        w_init = tf.random_normal_initializer()\n",
        "        self.w = tf.Variable(name='weight',\n",
        "                             initial_value=w_init(shape=(input_shape[-1], self.units),   # inputs과 곱해야하므로.\n",
        "                                                  dtype='float32'), trainable=True)   # 업데이트 하겠다.\n",
        "        \n",
        "        # bias 초기화\n",
        "        b_init = tf.zeros_initializer()\n",
        "        self.b = tf.Variable(name=\"bias\",\n",
        "                             initial_value = b_init(shape=(self.units), dtype='float32'),\n",
        "                             trainable=True)\n",
        "    \n",
        "    def call(self, inputs):\n",
        "        # wx + b\n",
        "        return tf.matmul(inputs, self.w) + self.b"
      ],
      "metadata": {
        "id": "AJQp7qPB3ISG"
      },
      "execution_count": null,
      "outputs": []
    },
    {
      "cell_type": "code",
      "source": [
        "# 샘플 데이터 생성\n",
        "X = np.array([0.0, 1.0, 2.0, 3.0, 4.0, 5.0], dtype=float)\n",
        "Y = np.array([2.0, 4.0, 6.0, 8.0, 10.0, 12.0], dtype=float)\n",
        "\n",
        "# 사용자 정의 MyDense 레이어를 적용한 경우\n",
        "model = tf.keras.Sequential([\n",
        "        MyDense(units=1, input_shape=[1])\n",
        "])\n",
        "\n",
        "# compile\n",
        "model.compile(optimizer='sgd', loss='mse')\n",
        "\n",
        "# trainig\n",
        "model.fit(X, Y, epochs=1000, verbose=0)\n",
        "\n",
        "# result\n",
        "print(model.predict([6.0]))"
      ],
      "metadata": {
        "colab": {
          "base_uri": "https://localhost:8080/"
        },
        "id": "P10laGT13JE8",
        "outputId": "403a9392-3c4a-48f8-de68-253ed34950e9"
      },
      "execution_count": null,
      "outputs": [
        {
          "output_type": "stream",
          "name": "stdout",
          "text": [
            "[[14.002444]]\n"
          ]
        }
      ]
    },
    {
      "cell_type": "code",
      "source": [
        ""
      ],
      "metadata": {
        "id": "GB7w3tYr3JIZ"
      },
      "execution_count": null,
      "outputs": []
    }
  ]
}