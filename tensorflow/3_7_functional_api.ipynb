{
  "nbformat": 4,
  "nbformat_minor": 0,
  "metadata": {
    "colab": {
      "name": "3.7_functional_api.ipynb",
      "provenance": [],
      "collapsed_sections": [],
      "toc_visible": true,
      "authorship_tag": "ABX9TyMulM7MPP8LnatAbkyIfMDf",
      "include_colab_link": true
    },
    "kernelspec": {
      "name": "python3",
      "display_name": "Python 3"
    },
    "language_info": {
      "name": "python"
    }
  },
  "cells": [
    {
      "cell_type": "markdown",
      "metadata": {
        "id": "view-in-github",
        "colab_type": "text"
      },
      "source": [
        "<a href=\"https://colab.research.google.com/github/lala991204/DL-self-study/blob/master/tensorflow/3_7_functional_api.ipynb\" target=\"_parent\"><img src=\"https://colab.research.google.com/assets/colab-badge.svg\" alt=\"Open In Colab\"/></a>"
      ]
    },
    {
      "cell_type": "code",
      "execution_count": null,
      "metadata": {
        "id": "Y3qNw4ngp74W"
      },
      "outputs": [],
      "source": [
        "import tensorflow as tf\n",
        "from tensorflow.keras.utils import plot_model"
      ]
    },
    {
      "cell_type": "code",
      "source": [
        "mnist = tf.keras.datasets.mnist\n",
        "\n",
        "(x_train, y_train), (x_test, y_test) = mnist.load_data()\n",
        "\n",
        "x_train = x_train / x_train.max()\n",
        "x_test = x_test / x_test.max()\n",
        "\n",
        "model = tf.keras.Sequential([\n",
        "        tf.keras.layers.Flatten(input_shape=(28,28)),\n",
        "        tf.keras.layers.Dense(256, activation='relu'),\n",
        "        tf.keras.layers.Dense(64, activation='relu'),\n",
        "        tf.keras.layers.Dense(32, activation='relu'),\n",
        "        tf.keras.layers.Dense(10, activation='softmax'),\n",
        "])\n",
        "\n",
        "model.compile(optimizer='adam', loss='sparse_categorical_crossentropy', \n",
        "              metrics=['accuracy'])\n",
        "\n",
        "model.fit(x_train, y_train,\n",
        "          validation_data=(x_test, y_test),\n",
        "          epochs=10,\n",
        "          )"
      ],
      "metadata": {
        "colab": {
          "base_uri": "https://localhost:8080/"
        },
        "id": "NKtYcaNSutCx",
        "outputId": "4b2165d3-1155-4f64-cb51-c7b41ccd5fe9"
      },
      "execution_count": null,
      "outputs": [
        {
          "output_type": "stream",
          "name": "stdout",
          "text": [
            "Epoch 1/10\n",
            "1875/1875 [==============================] - 7s 4ms/step - loss: 0.2312 - accuracy: 0.9309 - val_loss: 0.1162 - val_accuracy: 0.9654\n",
            "Epoch 2/10\n",
            "1875/1875 [==============================] - 7s 4ms/step - loss: 0.0948 - accuracy: 0.9710 - val_loss: 0.0905 - val_accuracy: 0.9736\n",
            "Epoch 3/10\n",
            "1875/1875 [==============================] - 6s 3ms/step - loss: 0.0652 - accuracy: 0.9792 - val_loss: 0.0820 - val_accuracy: 0.9742\n",
            "Epoch 4/10\n",
            "1875/1875 [==============================] - 7s 3ms/step - loss: 0.0496 - accuracy: 0.9837 - val_loss: 0.1040 - val_accuracy: 0.9716\n",
            "Epoch 5/10\n",
            "1875/1875 [==============================] - 6s 3ms/step - loss: 0.0421 - accuracy: 0.9866 - val_loss: 0.0874 - val_accuracy: 0.9770\n",
            "Epoch 6/10\n",
            "1875/1875 [==============================] - 6s 3ms/step - loss: 0.0340 - accuracy: 0.9888 - val_loss: 0.0850 - val_accuracy: 0.9777\n",
            "Epoch 7/10\n",
            "1875/1875 [==============================] - 7s 4ms/step - loss: 0.0278 - accuracy: 0.9914 - val_loss: 0.0817 - val_accuracy: 0.9790\n",
            "Epoch 8/10\n",
            "1875/1875 [==============================] - 7s 4ms/step - loss: 0.0238 - accuracy: 0.9923 - val_loss: 0.0832 - val_accuracy: 0.9788\n",
            "Epoch 9/10\n",
            "1875/1875 [==============================] - 7s 4ms/step - loss: 0.0229 - accuracy: 0.9925 - val_loss: 0.0879 - val_accuracy: 0.9782\n",
            "Epoch 10/10\n",
            "1875/1875 [==============================] - 7s 4ms/step - loss: 0.0183 - accuracy: 0.9942 - val_loss: 0.0999 - val_accuracy: 0.9768\n"
          ]
        },
        {
          "output_type": "execute_result",
          "data": {
            "text/plain": [
              "<keras.callbacks.History at 0x7fe277ac29d0>"
            ]
          },
          "metadata": {},
          "execution_count": 9
        }
      ]
    },
    {
      "cell_type": "markdown",
      "source": [
        "# 함수형 API(Functional API)"
      ],
      "metadata": {
        "id": "sIPXcXKitchO"
      }
    },
    {
      "cell_type": "markdown",
      "source": [
        "다중 입력, 다중 출력, 같은 레벨에 여러 개의 층을 배치하여 입,출력을 공유하는 구조도 가능하다."
      ],
      "metadata": {
        "id": "xkdF7u_iOqUE"
      }
    },
    {
      "cell_type": "code",
      "source": [
        "# 모델의 Input layer 정의\n",
        "input_layer = tf.keras.Input(shape=(28,28), name='InputLayer')\n",
        "\n",
        "# 모델의 레이어를 체인 구조로 연결\n",
        "x1 = tf.keras.layers.Flatten(name='Flatten')(input_layer)\n",
        "x2 = tf.keras.layers.Dense(256, activation='relu', name='Dense1')(x1)\n",
        "x3 = tf.keras.layers.Dense(64, activation='relu', name='Dense2')(x2)\n",
        "x4 = tf.keras.layers.Dense(10, activation='softmax', name='OutputLayer')(x3)\n",
        "\n",
        "# 모델 생성\n",
        "func_model = tf.keras.Model(inputs=input_layer, outputs=x4, name='FunctionalModel')\n",
        "\n",
        "# 모델 요약\n",
        "func_model.summary()"
      ],
      "metadata": {
        "colab": {
          "base_uri": "https://localhost:8080/"
        },
        "id": "eb-XauVwrTUa",
        "outputId": "c2ead4fd-0c08-406f-8a84-1640bea31f43"
      },
      "execution_count": null,
      "outputs": [
        {
          "output_type": "stream",
          "name": "stdout",
          "text": [
            "Model: \"FunctionalModel\"\n",
            "_________________________________________________________________\n",
            " Layer (type)                Output Shape              Param #   \n",
            "=================================================================\n",
            " InputLayer (InputLayer)     [(None, 28, 28)]          0         \n",
            "                                                                 \n",
            " Flatten (Flatten)           (None, 784)               0         \n",
            "                                                                 \n",
            " Dense1 (Dense)              (None, 256)               200960    \n",
            "                                                                 \n",
            " Dense2 (Dense)              (None, 64)                16448     \n",
            "                                                                 \n",
            " OutputLayer (Dense)         (None, 10)                650       \n",
            "                                                                 \n",
            "=================================================================\n",
            "Total params: 218,058\n",
            "Trainable params: 218,058\n",
            "Non-trainable params: 0\n",
            "_________________________________________________________________\n"
          ]
        }
      ]
    },
    {
      "cell_type": "code",
      "source": [
        "# 구조도 시각화(각 layer의 명칭이 box의 왼쪽 상단에 표시됨)\n",
        "plot_model(func_model, show_shapes=True, show_layer_names=True, to_file='model.png')"
      ],
      "metadata": {
        "colab": {
          "base_uri": "https://localhost:8080/",
          "height": 533
        },
        "id": "gLbBgY4ErTpl",
        "outputId": "692acfcf-c634-4af8-f230-5da254a929e5"
      },
      "execution_count": null,
      "outputs": [
        {
          "output_type": "execute_result",
          "data": {
            "text/plain": [
              "<IPython.core.display.Image object>"
            ],
            "image/png": "[encoded data removed]"
          },
          "metadata": {},
          "execution_count": 4
        }
      ]
    },
    {
      "cell_type": "code",
      "source": [
        "# compile\n",
        "func_model.compile(optimizer='adam', loss='sparse_categorical_crossentropy',\n",
        "                   metrics=['accuracy'])\n",
        "\n",
        "# training\n",
        "func_model.fit(x_train, y_train, epochs=3)\n",
        "\n",
        "# evaluation\n",
        "loss, acc = func_model.evaluate(x_test, y_test, verbose=0)\n",
        "print(f'Functional Model] loss: {loss:.5f}, acc: {acc:.5f}')"
      ],
      "metadata": {
        "colab": {
          "base_uri": "https://localhost:8080/"
        },
        "id": "ejT65Lz3rTr3",
        "outputId": "5df51b44-2c4e-444c-95aa-171299fefe7c"
      },
      "execution_count": null,
      "outputs": [
        {
          "output_type": "stream",
          "name": "stdout",
          "text": [
            "Epoch 1/3\n",
            "1875/1875 [==============================] - 6s 3ms/step - loss: 0.2070 - accuracy: 0.9379\n",
            "Epoch 2/3\n",
            "1875/1875 [==============================] - 6s 3ms/step - loss: 0.0881 - accuracy: 0.9726\n",
            "Epoch 3/3\n",
            "1875/1875 [==============================] - 6s 3ms/step - loss: 0.0602 - accuracy: 0.9806\n",
            "Functional Model] loss: 0.07690, acc: 0.97550\n"
          ]
        }
      ]
    },
    {
      "cell_type": "markdown",
      "source": [
        "Model Subclassing은 함수형 API로 생성한 모델과의 성능 차이는 없기 때문에 굳이 다음으로 구현하지 않아도 좋다. Sequential/Functional API으로도 충분하다."
      ],
      "metadata": {
        "id": "LoMKFT2ERJ5X"
      }
    },
    {
      "cell_type": "markdown",
      "source": [
        "# Model Subclassing"
      ],
      "metadata": {
        "id": "y0vzxcaYvfDt"
      }
    },
    {
      "cell_type": "markdown",
      "source": [
        "아래와 같이 Model Subclassing으로 모델 인스턴스를 생성하기 위해서는 tf.keras.Model을 상속받아 생성하고자 하는 모델 클래스를 구현한다."
      ],
      "metadata": {
        "id": "U1zCbQiFPcih"
      }
    },
    {
      "cell_type": "code",
      "source": [
        "class MyModel(tf.keras.Model):\n",
        "    def __init__(self):          # layer와 layer의 hyperparameter를 정의함.\n",
        "        super(MyModel, self).__init__()\n",
        "        # 초기값 설정\n",
        "        self.flatten = tf.keras.layers.Flatten()\n",
        "        self.dense1 = tf.keras.layers.Dense(256, activation='relu')\n",
        "        self.dense2 = tf.keras.layers.Dense(64, activation='relu')\n",
        "        self.dense3 = tf.keras.layers.Dense(10, activation='softmax')\n",
        "\n",
        "    # method overiding\n",
        "    # 훈련용 함수 정의\n",
        "    # x는 input\n",
        "    def call(self, x):          # fit() 메소드가 호출되어 훈련하는 경우 호출될 함수임.\n",
        "        x = self.flatten(x)\n",
        "        x = self.dense1(x)\n",
        "        x = self.dense2(x)\n",
        "        x = self.dense3(x)\n",
        "        return x\n",
        "\n",
        "# 모델 생성(tf.keras.Model을 상속받아 구현한 모델인 MyModel을 생성자로 인스턴스 생성!)\n",
        "mymodel = MyModel()\n",
        "\n",
        "# 모델 이름 설정\n",
        "mymodel._name = 'subclass_model'\n",
        "\n",
        "# 모델 input 정의\n",
        "mymodel(tf.keras.layers.Input(shape=(28,28)))\n",
        "\n",
        "# 모델 요약\n",
        "mymodel.summary()"
      ],
      "metadata": {
        "colab": {
          "base_uri": "https://localhost:8080/"
        },
        "id": "XmUunMbprTu_",
        "outputId": "5b947c11-eede-475d-ef81-6471bcf8b37a"
      },
      "execution_count": null,
      "outputs": [
        {
          "output_type": "stream",
          "name": "stdout",
          "text": [
            "Model: \"subclass_model\"\n",
            "_________________________________________________________________\n",
            " Layer (type)                Output Shape              Param #   \n",
            "=================================================================\n",
            " flatten_2 (Flatten)         multiple                  0         \n",
            "                                                                 \n",
            " dense_8 (Dense)             multiple                  200960    \n",
            "                                                                 \n",
            " dense_9 (Dense)             multiple                  16448     \n",
            "                                                                 \n",
            " dense_10 (Dense)            multiple                  650       \n",
            "                                                                 \n",
            "=================================================================\n",
            "Total params: 218,058\n",
            "Trainable params: 218,058\n",
            "Non-trainable params: 0\n",
            "_________________________________________________________________\n"
          ]
        }
      ]
    },
    {
      "cell_type": "code",
      "source": [
        "# compile\n",
        "mymodel.compile(optimizer='adam', loss='sparse_categorical_crossentropy',\n",
        "                metrics=['accuracy'])\n",
        "\n",
        "# training\n",
        "mymodel.fit(x_train, y_train, epochs=3)\n",
        "\n",
        "# evaluation\n",
        "loss, acc = mymodel.evaluate(x_test, y_test, verbose=0)\n",
        "print(f'Subclassing Model] loss: {loss:.5f}, acc: {acc:.5f}')"
      ],
      "metadata": {
        "colab": {
          "base_uri": "https://localhost:8080/"
        },
        "id": "guzXkrVzwzfW",
        "outputId": "ed8790a8-8921-49bd-fe2a-5a15c657b5ee"
      },
      "execution_count": null,
      "outputs": [
        {
          "output_type": "stream",
          "name": "stdout",
          "text": [
            "Epoch 1/3\n",
            "1875/1875 [==============================] - 6s 3ms/step - loss: 0.2136 - accuracy: 0.9367\n",
            "Epoch 2/3\n",
            "1875/1875 [==============================] - 6s 3ms/step - loss: 0.0871 - accuracy: 0.9736\n",
            "Epoch 3/3\n",
            "1875/1875 [==============================] - 6s 3ms/step - loss: 0.0601 - accuracy: 0.9810\n",
            "Subclassing Model] loss: 0.08857, acc: 0.97260\n"
          ]
        }
      ]
    },
    {
      "cell_type": "markdown",
      "source": [
        "다음은 모델의 생성자(MyModel) 파라미터를 추가하여 동적으로 layer의 유닛(노드) 개수를 초기화하는 예제이다."
      ],
      "metadata": {
        "id": "n30cFBAeQgxz"
      }
    },
    {
      "cell_type": "code",
      "source": [
        "## 서브클래싱 모델 파라미터를 활용한 생성\n",
        "\n",
        "class MyModel(tf.keras.Model):\n",
        "\n",
        "    # 생성자 파라미터 추가\n",
        "    def __init__(self, units, num_classes):\n",
        "        super(MyModel, self).__init__()\n",
        "        # 초기값 설정\n",
        "        self.flatten = tf.keras.layers.Flatten()\n",
        "        self.dense1 = tf.keras.layers.Dense(units, activation='relu')\n",
        "        self.dense2 = tf.keras.layers.Dense(units/4, activation='relu')\n",
        "        self.dense3 = tf.keras.layers.Dense(num_classes, activation='softmax')\n",
        "\n",
        "    # class overiding\n",
        "    # 훈련용 함수 정의\n",
        "    # x는 input\n",
        "    def call(self, x):\n",
        "        x = self.flatten(x)\n",
        "        x = self.dense1(x)\n",
        "        x = self.dense2(x)\n",
        "        x = self.dense3(x)\n",
        "        return x\n",
        "\n",
        "# 모델 생성\n",
        "model = MyModel(256, 10)     # units=256, num_classes=10(출력층의 노드 개수)\n",
        "\n",
        "# 모델 input 정의\n",
        "mymodel(tf.keras.layers.Input(shape=(28,28)))\n",
        "\n",
        "# 모델 요약\n",
        "mymodel.summary()"
      ],
      "metadata": {
        "colab": {
          "base_uri": "https://localhost:8080/"
        },
        "id": "249YLXvcxb-4",
        "outputId": "1b5d7a24-54c8-466f-c0c8-17878aef8799"
      },
      "execution_count": null,
      "outputs": [
        {
          "output_type": "stream",
          "name": "stdout",
          "text": [
            "Model: \"subclass_model\"\n",
            "_________________________________________________________________\n",
            " Layer (type)                Output Shape              Param #   \n",
            "=================================================================\n",
            " flatten_2 (Flatten)         multiple                  0         \n",
            "                                                                 \n",
            " dense_8 (Dense)             multiple                  200960    \n",
            "                                                                 \n",
            " dense_9 (Dense)             multiple                  16448     \n",
            "                                                                 \n",
            " dense_10 (Dense)            multiple                  650       \n",
            "                                                                 \n",
            "=================================================================\n",
            "Total params: 218,058\n",
            "Trainable params: 218,058\n",
            "Non-trainable params: 0\n",
            "_________________________________________________________________\n"
          ]
        }
      ]
    },
    {
      "cell_type": "code",
      "source": [
        "# compile\n",
        "mymodel.compile(optimizer='adam', loss='sparse_categorical_crossentropy',\n",
        "                metrics=['accuracy']) \n",
        "\n",
        "# training\n",
        "mymodel.fit(x_train, y_train, epochs=3)\n",
        "\n",
        "# evaluation\n",
        "loss, acc = mymodel.evaluate(x_test, y_test, verbose=0)\n",
        "print(f'Subclassing Model w.parameters] loss: {loss:.5f}, acc: {acc:.5f}')"
      ],
      "metadata": {
        "colab": {
          "base_uri": "https://localhost:8080/"
        },
        "id": "bd0T1AYVyfcn",
        "outputId": "0b08623a-4063-49cc-b7ed-5414b65d89a6"
      },
      "execution_count": null,
      "outputs": [
        {
          "output_type": "stream",
          "name": "stdout",
          "text": [
            "Epoch 1/3\n",
            "1875/1875 [==============================] - 6s 3ms/step - loss: 0.0472 - accuracy: 0.9847\n",
            "Epoch 2/3\n",
            "1875/1875 [==============================] - 6s 3ms/step - loss: 0.0343 - accuracy: 0.9895\n",
            "Epoch 3/3\n",
            "1875/1875 [==============================] - 6s 3ms/step - loss: 0.0292 - accuracy: 0.9902\n",
            "Subclassing Model w.parameters] loss: 0.09502, acc: 0.97420\n"
          ]
        }
      ]
    },
    {
      "cell_type": "code",
      "source": [
        ""
      ],
      "metadata": {
        "id": "rHlDxlNpy5KF"
      },
      "execution_count": null,
      "outputs": []
    }
  ]
}