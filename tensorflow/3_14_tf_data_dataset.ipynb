{
  "nbformat": 4,
  "nbformat_minor": 0,
  "metadata": {
    "colab": {
      "name": "3.14_tf_data_dataset.ipynb",
      "provenance": [],
      "collapsed_sections": [],
      "toc_visible": true,
      "authorship_tag": "ABX9TyNV9DI7eU26VF7OdHQhDMz8",
      "include_colab_link": true
    },
    "kernelspec": {
      "name": "python3",
      "display_name": "Python 3"
    },
    "language_info": {
      "name": "python"
    }
  },
  "cells": [
    {
      "cell_type": "markdown",
      "metadata": {
        "id": "view-in-github",
        "colab_type": "text"
      },
      "source": [
        "<a href=\"https://colab.research.google.com/github/lala991204/DL-self-study/blob/master/tensorflow/3_14_tf_data_dataset.ipynb\" target=\"_parent\"><img src=\"https://colab.research.google.com/assets/colab-badge.svg\" alt=\"Open In Colab\"/></a>"
      ]
    },
    {
      "cell_type": "code",
      "execution_count": 1,
      "metadata": {
        "id": "NWF0RQJMET_X"
      },
      "outputs": [],
      "source": [
        "import numpy as np\n",
        "import tensorflow as tf"
      ]
    },
    {
      "cell_type": "markdown",
      "source": [
        "as_numpy_iterator()는 생성된 Dataset 클래스를 numpy 배열로 반환한다."
      ],
      "metadata": {
        "id": "ZxaVVnOtI_Er"
      }
    },
    {
      "cell_type": "code",
      "source": [
        "dataset = tf.data.Dataset.range(10)\n",
        "print(list(dataset.as_numpy_iterator()))\n",
        "print('\\n')\n",
        "\n",
        "def filter_five(x):\n",
        "    return x.filter(lambda x: x < 5)\n",
        "print(list(dataset.apply(filter_five).as_numpy_iterator()))"
      ],
      "metadata": {
        "colab": {
          "base_uri": "https://localhost:8080/"
        },
        "id": "IrgzpxPNEr9T",
        "outputId": "1e7649f5-ec9a-4085-a7d9-27bac36e80d7"
      },
      "execution_count": 17,
      "outputs": [
        {
          "output_type": "stream",
          "name": "stdout",
          "text": [
            "[0, 1, 2, 3, 4, 5, 6, 7, 8, 9]\n",
            "\n",
            "\n",
            "[0, 1, 2, 3, 4]\n"
          ]
        }
      ]
    },
    {
      "cell_type": "markdown",
      "source": [
        "from_tensor_slices는 리스트 혹은 numpy 배열을 Dataset 클래스로 변환해준다."
      ],
      "metadata": {
        "id": "TAByjNzWJeRC"
      }
    },
    {
      "cell_type": "code",
      "source": [
        "ds = tf.data.Dataset.from_tensor_slices([1,2,3,4,5])\n",
        "print(type(ds))\n",
        "print(list(ds.as_numpy_iterator()))\n",
        "print('\\n')\n",
        "\n",
        "for d in ds:\n",
        "    print(d)"
      ],
      "metadata": {
        "colab": {
          "base_uri": "https://localhost:8080/"
        },
        "id": "1S_JA9qZFGmY",
        "outputId": "2636fb2d-d3da-4b1b-aa32-4ca0f8c76a94"
      },
      "execution_count": 10,
      "outputs": [
        {
          "output_type": "stream",
          "name": "stdout",
          "text": [
            "<class 'tensorflow.python.data.ops.dataset_ops.TensorSliceDataset'>\n",
            "[1, 2, 3, 4, 5]\n",
            "\n",
            "\n",
            "tf.Tensor(1, shape=(), dtype=int32)\n",
            "tf.Tensor(2, shape=(), dtype=int32)\n",
            "tf.Tensor(3, shape=(), dtype=int32)\n",
            "tf.Tensor(4, shape=(), dtype=int32)\n",
            "tf.Tensor(5, shape=(), dtype=int32)\n"
          ]
        }
      ]
    },
    {
      "cell_type": "code",
      "source": [
        "ds = tf.data.Dataset.range(1, 10, 2)\n",
        "for d in ds:\n",
        "    print(d)\n",
        "print('\\n')\n",
        "\n",
        "ds = tf.data.Dataset.range(8)\n",
        "for d in ds.batch(3):      # 3개의 요소가 하나의 배치로 구성됨.\n",
        "    print(d)\n",
        "print('\\n')\n",
        "\n",
        "for d in ds.batch(3, drop_remainder=True):    # 잔여 요소의 개수가 배치 크기보다 작으면 생성 X\n",
        "    print(d)"
      ],
      "metadata": {
        "colab": {
          "base_uri": "https://localhost:8080/"
        },
        "id": "bk4VM4AmFfj5",
        "outputId": "a6bc7edb-6521-4470-d29a-cec490c49b2c"
      },
      "execution_count": 9,
      "outputs": [
        {
          "output_type": "stream",
          "name": "stdout",
          "text": [
            "tf.Tensor(1, shape=(), dtype=int64)\n",
            "tf.Tensor(3, shape=(), dtype=int64)\n",
            "tf.Tensor(5, shape=(), dtype=int64)\n",
            "tf.Tensor(7, shape=(), dtype=int64)\n",
            "tf.Tensor(9, shape=(), dtype=int64)\n",
            "\n",
            "\n",
            "tf.Tensor([0 1 2], shape=(3,), dtype=int64)\n",
            "tf.Tensor([3 4 5], shape=(3,), dtype=int64)\n",
            "tf.Tensor([6 7], shape=(2,), dtype=int64)\n",
            "\n",
            "\n",
            "tf.Tensor([0 1 2], shape=(3,), dtype=int64)\n",
            "tf.Tensor([3 4 5], shape=(3,), dtype=int64)\n"
          ]
        }
      ]
    },
    {
      "cell_type": "markdown",
      "source": [
        "window 메소드는 시계열 dataset 구축시 윈도우 구현에 사용된다."
      ],
      "metadata": {
        "id": "12PPMlqCKZFu"
      }
    },
    {
      "cell_type": "code",
      "source": [
        "ds = tf.data.Dataset.range(10)\n",
        "ds = ds.window(5, shift=1, drop_remainder=False)  # ex: 5일 간의데이터를 묶어 하나의 배치로 구성하고자 할 때(shift: 윈도우 구성의 시작점을 몇 칸씩 건너뛸 것인지!)\n",
        "for d in ds:\n",
        "    print(list(d.as_numpy_iterator()))\n",
        "print('\\n')\n",
        "\n",
        "ds = tf.data.Dataset.range(10)\n",
        "ds = ds.window(5, shift=1, drop_remainder=True)\n",
        "for d in ds:\n",
        "    print(list(d.as_numpy_iterator()))\n",
        "print('\\n')\n",
        "\n",
        "ds = tf.data.Dataset.range(10)\n",
        "ds = ds.window(5,shift=2, drop_remainder=True)\n",
        "for d in ds:\n",
        "    print(list(d.as_numpy_iterator()))"
      ],
      "metadata": {
        "colab": {
          "base_uri": "https://localhost:8080/"
        },
        "id": "pG_0VWcFF1Ew",
        "outputId": "fd770848-3231-4439-e64c-168f373bafb4"
      },
      "execution_count": 8,
      "outputs": [
        {
          "output_type": "stream",
          "name": "stdout",
          "text": [
            "[0, 1, 2, 3, 4]\n",
            "[1, 2, 3, 4, 5]\n",
            "[2, 3, 4, 5, 6]\n",
            "[3, 4, 5, 6, 7]\n",
            "[4, 5, 6, 7, 8]\n",
            "[5, 6, 7, 8, 9]\n",
            "[6, 7, 8, 9]\n",
            "[7, 8, 9]\n",
            "[8, 9]\n",
            "[9]\n",
            "\n",
            "\n",
            "[0, 1, 2, 3, 4]\n",
            "[1, 2, 3, 4, 5]\n",
            "[2, 3, 4, 5, 6]\n",
            "[3, 4, 5, 6, 7]\n",
            "[4, 5, 6, 7, 8]\n",
            "[5, 6, 7, 8, 9]\n",
            "\n",
            "\n",
            "[0, 1, 2, 3, 4]\n",
            "[2, 3, 4, 5, 6]\n",
            "[4, 5, 6, 7, 8]\n"
          ]
        }
      ]
    },
    {
      "cell_type": "markdown",
      "source": [
        "flat_map 메소드는 map 함수를 Dataset 클래스에 적용하며 flatten한 결과를 반환한다."
      ],
      "metadata": {
        "id": "Uhzg6JqvLJc7"
      }
    },
    {
      "cell_type": "code",
      "source": [
        "ds = tf.data.Dataset.range(10)\n",
        "ds = ds.window(5, shift=1, drop_remainder=True)\n",
        "# ds = ds.flat_map(lambda w: w.batch(5))\n",
        "for d in ds:\n",
        "    print(d)\n",
        "print('\\n')\n",
        "\n",
        "ds = tf.data.Dataset.range(10)\n",
        "ds = ds.window(5, shift=1, drop_remainder=True)\n",
        "ds = ds.flat_map(lambda w: w.batch(5))\n",
        "for d in ds:\n",
        "    print(d)"
      ],
      "metadata": {
        "colab": {
          "base_uri": "https://localhost:8080/"
        },
        "id": "Y6Ea3Wg3GSDp",
        "outputId": "71665cba-6cdc-4cef-ab2c-30ab88be8b1c"
      },
      "execution_count": 12,
      "outputs": [
        {
          "output_type": "stream",
          "name": "stdout",
          "text": [
            "<_VariantDataset element_spec=TensorSpec(shape=(), dtype=tf.int64, name=None)>\n",
            "<_VariantDataset element_spec=TensorSpec(shape=(), dtype=tf.int64, name=None)>\n",
            "<_VariantDataset element_spec=TensorSpec(shape=(), dtype=tf.int64, name=None)>\n",
            "<_VariantDataset element_spec=TensorSpec(shape=(), dtype=tf.int64, name=None)>\n",
            "<_VariantDataset element_spec=TensorSpec(shape=(), dtype=tf.int64, name=None)>\n",
            "<_VariantDataset element_spec=TensorSpec(shape=(), dtype=tf.int64, name=None)>\n",
            "\n",
            "\n",
            "tf.Tensor([0 1 2 3 4], shape=(5,), dtype=int64)\n",
            "tf.Tensor([1 2 3 4 5], shape=(5,), dtype=int64)\n",
            "tf.Tensor([2 3 4 5 6], shape=(5,), dtype=int64)\n",
            "tf.Tensor([3 4 5 6 7], shape=(5,), dtype=int64)\n",
            "tf.Tensor([4 5 6 7 8], shape=(5,), dtype=int64)\n",
            "tf.Tensor([5 6 7 8 9], shape=(5,), dtype=int64)\n"
          ]
        }
      ]
    },
    {
      "cell_type": "code",
      "source": [
        "# shuffle을 해주지 않은 경우\n",
        "ds = tf.data.Dataset.from_tensor_slices(np.arange(10))     # .shuffle()\n",
        "for d in ds:\n",
        "    print(d)\n",
        "print('\\n')\n",
        "\n",
        "# shuffle 설정\n",
        "ds = tf.data.Dataset.from_tensor_slices(np.arange(10)).shuffle(buffer_size=5)\n",
        "for d in ds:\n",
        "    print(d)"
      ],
      "metadata": {
        "colab": {
          "base_uri": "https://localhost:8080/"
        },
        "id": "-tj124K1HMKh",
        "outputId": "a71ab448-edd1-46df-8de0-230f6e5f35f9"
      },
      "execution_count": 13,
      "outputs": [
        {
          "output_type": "stream",
          "name": "stdout",
          "text": [
            "tf.Tensor(0, shape=(), dtype=int64)\n",
            "tf.Tensor(1, shape=(), dtype=int64)\n",
            "tf.Tensor(2, shape=(), dtype=int64)\n",
            "tf.Tensor(3, shape=(), dtype=int64)\n",
            "tf.Tensor(4, shape=(), dtype=int64)\n",
            "tf.Tensor(5, shape=(), dtype=int64)\n",
            "tf.Tensor(6, shape=(), dtype=int64)\n",
            "tf.Tensor(7, shape=(), dtype=int64)\n",
            "tf.Tensor(8, shape=(), dtype=int64)\n",
            "tf.Tensor(9, shape=(), dtype=int64)\n",
            "\n",
            "\n",
            "tf.Tensor(0, shape=(), dtype=int64)\n",
            "tf.Tensor(4, shape=(), dtype=int64)\n",
            "tf.Tensor(6, shape=(), dtype=int64)\n",
            "tf.Tensor(5, shape=(), dtype=int64)\n",
            "tf.Tensor(8, shape=(), dtype=int64)\n",
            "tf.Tensor(3, shape=(), dtype=int64)\n",
            "tf.Tensor(1, shape=(), dtype=int64)\n",
            "tf.Tensor(9, shape=(), dtype=int64)\n",
            "tf.Tensor(2, shape=(), dtype=int64)\n",
            "tf.Tensor(7, shape=(), dtype=int64)\n"
          ]
        }
      ]
    },
    {
      "cell_type": "markdown",
      "source": [
        "map 메소드는 데이터셋을 입력 데이터와 레이블 데이터로 분리할 때 활용할 수 있다."
      ],
      "metadata": {
        "id": "CyEhIHLeL0Aa"
      }
    },
    {
      "cell_type": "code",
      "source": [
        "window_size = 5\n",
        "\n",
        "ds = tf.data.Dataset.range(10)\n",
        "ds = ds.window(window_size, shift=1, drop_remainder=True)\n",
        "ds = ds.flat_map(lambda w: w.batch(window_size))\n",
        "ds = ds.shuffle(10)\n",
        "\n",
        "# 첫 3개와 마지막 2개를 분리\n",
        "ds = ds.map(lambda x: (x[:-2], x[-2:]))\n",
        "for x, y in ds:\n",
        "    print('train set: {}'.format(x))\n",
        "    print('label set: {}'.format(y))\n",
        "    print('===' * 10)"
      ],
      "metadata": {
        "colab": {
          "base_uri": "https://localhost:8080/"
        },
        "id": "h0V1gMa0Hkgt",
        "outputId": "fd35da36-1ed2-48f4-f8dd-90f3afb5aab2"
      },
      "execution_count": 15,
      "outputs": [
        {
          "output_type": "stream",
          "name": "stdout",
          "text": [
            "train set: [5 6 7]\n",
            "label set: [8 9]\n",
            "==============================\n",
            "train set: [0 1 2]\n",
            "label set: [3 4]\n",
            "==============================\n",
            "train set: [3 4 5]\n",
            "label set: [6 7]\n",
            "==============================\n",
            "train set: [2 3 4]\n",
            "label set: [5 6]\n",
            "==============================\n",
            "train set: [1 2 3]\n",
            "label set: [4 5]\n",
            "==============================\n",
            "train set: [4 5 6]\n",
            "label set: [7 8]\n",
            "==============================\n"
          ]
        }
      ]
    },
    {
      "cell_type": "code",
      "source": [
        ""
      ],
      "metadata": {
        "id": "DqCKgpGyIF60"
      },
      "execution_count": null,
      "outputs": []
    }
  ]
}