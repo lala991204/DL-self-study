{
  "nbformat": 4,
  "nbformat_minor": 0,
  "metadata": {
    "colab": {
      "name": "tf11-1-mnist_cnn.ipynb",
      "provenance": [],
      "authorship_tag": "ABX9TyNhusi88P7gFiSwGbL+VCSf",
      "include_colab_link": true
    },
    "kernelspec": {
      "name": "python3",
      "display_name": "Python 3"
    },
    "language_info": {
      "name": "python"
    }
  },
  "cells": [
    {
      "cell_type": "markdown",
      "metadata": {
        "id": "view-in-github",
        "colab_type": "text"
      },
      "source": [
        "<a href=\"https://colab.research.google.com/github/lala991204/DL-self-study/blob/master/tf11_1_mnist_cnn.ipynb\" target=\"_parent\"><img src=\"https://colab.research.google.com/assets/colab-badge.svg\" alt=\"Open In Colab\"/></a>"
      ]
    },
    {
      "cell_type": "code",
      "source": [
        "import tensorflow as tf\n",
        "\n",
        "mnist = tf.keras.datasets.mnist\n",
        "\n",
        "(x_train, y_train), (x_test, y_test) = mnist.load_data()\n",
        "x_train.shape        # 60000개의 image 데이터(28*28)"
      ],
      "metadata": {
        "colab": {
          "base_uri": "https://localhost:8080/"
        },
        "id": "gjvLVYgDjJop",
        "outputId": "dfa0e86b-ad85-44f6-b89b-c1ee97b4b856"
      },
      "execution_count": 4,
      "outputs": [
        {
          "output_type": "execute_result",
          "data": {
            "text/plain": [
              "(60000, 28, 28)"
            ]
          },
          "metadata": {},
          "execution_count": 4
        }
      ]
    },
    {
      "cell_type": "code",
      "execution_count": 3,
      "metadata": {
        "colab": {
          "base_uri": "https://localhost:8080/"
        },
        "id": "dN2r2259cmUv",
        "outputId": "dd134a71-4de3-4fe7-e295-5ee1e4781815"
      },
      "outputs": [
        {
          "output_type": "stream",
          "name": "stderr",
          "text": [
            "/usr/local/lib/python3.7/dist-packages/keras/optimizer_v2/adam.py:105: UserWarning: The `lr` argument is deprecated, use `learning_rate` instead.\n",
            "  super(Adam, self).__init__(name, **kwargs)\n"
          ]
        },
        {
          "output_type": "stream",
          "name": "stdout",
          "text": [
            "Model: \"sequential_1\"\n",
            "_________________________________________________________________\n",
            " Layer (type)                Output Shape              Param #   \n",
            "=================================================================\n",
            " conv2d_1 (Conv2D)           (None, 26, 26, 16)        160       \n",
            "                                                                 \n",
            " max_pooling2d_1 (MaxPooling  (None, 13, 13, 16)       0         \n",
            " 2D)                                                             \n",
            "                                                                 \n",
            " conv2d_2 (Conv2D)           (None, 11, 11, 32)        4640      \n",
            "                                                                 \n",
            " max_pooling2d_2 (MaxPooling  (None, 5, 5, 32)         0         \n",
            " 2D)                                                             \n",
            "                                                                 \n",
            " flatten (Flatten)           (None, 800)               0         \n",
            "                                                                 \n",
            " dense (Dense)               (None, 10)                8010      \n",
            "                                                                 \n",
            "=================================================================\n",
            "Total params: 12,810\n",
            "Trainable params: 12,810\n",
            "Non-trainable params: 0\n",
            "_________________________________________________________________\n",
            "Epoch 1/12\n",
            "469/469 [==============================] - 24s 50ms/step - loss: 0.3667 - accuracy: 0.8965\n",
            "Epoch 2/12\n",
            "469/469 [==============================] - 23s 50ms/step - loss: 0.0940 - accuracy: 0.9718\n",
            "Epoch 3/12\n",
            "469/469 [==============================] - 23s 50ms/step - loss: 0.0700 - accuracy: 0.9789\n",
            "Epoch 4/12\n",
            "469/469 [==============================] - 23s 50ms/step - loss: 0.0591 - accuracy: 0.9817\n",
            "Epoch 5/12\n",
            "469/469 [==============================] - 26s 55ms/step - loss: 0.0500 - accuracy: 0.9844\n",
            "Epoch 6/12\n",
            "469/469 [==============================] - 23s 49ms/step - loss: 0.0448 - accuracy: 0.9860\n",
            "Epoch 7/12\n",
            "469/469 [==============================] - 23s 49ms/step - loss: 0.0400 - accuracy: 0.9880\n",
            "Epoch 8/12\n",
            "469/469 [==============================] - 23s 49ms/step - loss: 0.0355 - accuracy: 0.9888\n",
            "Epoch 9/12\n",
            "469/469 [==============================] - 23s 49ms/step - loss: 0.0325 - accuracy: 0.9898\n",
            "Epoch 10/12\n",
            "469/469 [==============================] - 23s 48ms/step - loss: 0.0292 - accuracy: 0.9910\n",
            "Epoch 11/12\n",
            "469/469 [==============================] - 23s 49ms/step - loss: 0.0275 - accuracy: 0.9913\n",
            "Epoch 12/12\n",
            "469/469 [==============================] - 23s 49ms/step - loss: 0.0248 - accuracy: 0.9922\n",
            "index:  6912 actual y:  2 predicted y:  2\n",
            "index:  1377 actual y:  6 predicted y:  6\n",
            "index:  9502 actual y:  4 predicted y:  4\n",
            "index:  5962 actual y:  8 predicted y:  8\n",
            "index:  6597 actual y:  0 predicted y:  9\n",
            "index:  1377 actual y:  6 predicted y:  6\n",
            "index:  2447 actual y:  4 predicted y:  4\n",
            "index:  371 actual y:  2 predicted y:  2\n",
            "index:  9421 actual y:  2 predicted y:  2\n",
            "index:  7015 actual y:  2 predicted y:  2\n",
            "313/313 [==============================] - 2s 7ms/step - loss: 0.0336 - accuracy: 0.9906\n",
            "loss:  0.033567093312740326\n",
            "accuracy:  0.9905999898910522\n"
          ]
        }
      ],
      "source": [
        "import numpy as np\n",
        "import tensorflow as tf\n",
        "import random\n",
        "\n",
        "mnist = tf.keras.datasets.mnist\n",
        "\n",
        "(x_train, y_train), (x_test, y_test) = mnist.load_data()\n",
        "x_test = x_test / 255\n",
        "x_train = x_train / 255\n",
        "x_train = x_train.reshape(x_train.shape[0], 28, 28, 1)    # image 개수, 크기(28*28), color 개수\n",
        "x_test = x_test.reshape(x_test.shape[0], 28, 28, 1)\n",
        "\n",
        "# one hot encode y data\n",
        "y_train = tf.keras.utils.to_categorical(y_train, 10)\n",
        "y_test = tf.keras.utils.to_categorical(y_test, 10)\n",
        "\n",
        "# hyper parameters\n",
        "learning_rate = 0.001\n",
        "training_epochs = 12\n",
        "batch_size = 128\n",
        "\n",
        "tf.model = tf.keras.Sequential()\n",
        "\n",
        "# L1(1th layer)\n",
        "tf.model.add(tf.keras.layers.Conv2D(filters=16, kernel_size=(3, 3), input_shape=(28, 28, 1),\n",
        "                                    activation='relu'))\n",
        "tf.model.add(tf.keras.layers.MaxPooling2D(pool_size=(2, 2)))\n",
        "\n",
        "# L2\n",
        "tf.model.add(tf.keras.layers.Conv2D(filters=32, kernel_size=(3, 3), activation='relu'))\n",
        "tf.model.add(tf.keras.layers.MaxPooling2D(pool_size=(2, 2)))\n",
        "\n",
        "# L3 fully connected\n",
        "tf.model.add(tf.keras.layers.Flatten())\n",
        "tf.model.add(tf.keras.layers.Dense(units=10, kernel_initializer='glorot_normal',\n",
        "                                   activation='softmax'))\n",
        "\n",
        "tf.model.compile(loss='categorical_crossentropy', optimizer=tf.keras.optimizers.Adam(lr=learning_rate),\n",
        "                 metrics=['accuracy'])\n",
        "tf.model.summary()\n",
        "\n",
        "tf.model.fit(x_train, y_train, batch_size=batch_size, epochs=training_epochs)\n",
        "\n",
        "# predict 10 random hand-writing data\n",
        "y_predicted = tf.model.predict(x_test)\n",
        "for x in range(0, 10):\n",
        "    random_index = random.randint(0, x_test.shape[0]-1)\n",
        "    print(\"index: \", random_index,\n",
        "          \"actual y: \", np.argmax(y_test[random_index]),\n",
        "          \"predicted y: \", np.argmax(y_predicted[random_index]))\n",
        "    \n",
        "evaluation = tf.model.evaluate(x_test, y_test)\n",
        "print('loss: ', evaluation[0])\n",
        "print('accuracy: ', evaluation[1])"
      ]
    },
    {
      "cell_type": "markdown",
      "source": [
        "cnn을 사용하니 정확도 99%까지 상승!"
      ],
      "metadata": {
        "id": "39w4H4Sqj6mN"
      }
    },
    {
      "cell_type": "code",
      "source": [
        ""
      ],
      "metadata": {
        "id": "Js1sykddinrN"
      },
      "execution_count": null,
      "outputs": []
    }
  ]
}