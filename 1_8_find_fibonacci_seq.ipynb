{
  "nbformat": 4,
  "nbformat_minor": 0,
  "metadata": {
    "colab": {
      "name": "1.8_find_fibonacci_seq.ipynb",
      "provenance": [],
      "toc_visible": true,
      "authorship_tag": "ABX9TyMLB56jQ45eCGNLzGtFa+La",
      "include_colab_link": true
    },
    "kernelspec": {
      "name": "python3",
      "display_name": "Python 3"
    },
    "language_info": {
      "name": "python"
    }
  },
  "cells": [
    {
      "cell_type": "markdown",
      "metadata": {
        "id": "view-in-github",
        "colab_type": "text"
      },
      "source": [
        "<a href=\"https://colab.research.google.com/github/lala991204/DL-self-study/blob/master/1_8_find_fibonacci_seq.ipynb\" target=\"_parent\"><img src=\"https://colab.research.google.com/assets/colab-badge.svg\" alt=\"Open In Colab\"/></a>"
      ]
    },
    {
      "cell_type": "code",
      "execution_count": 1,
      "metadata": {
        "colab": {
          "base_uri": "https://localhost:8080/"
        },
        "id": "EmIm_MsR_u4n",
        "outputId": "ef5e691b-382e-42a0-ff35-764d30828f6d"
      },
      "outputs": [
        {
          "output_type": "stream",
          "name": "stdout",
          "text": [
            "테스트 통과!\n"
          ]
        }
      ],
      "source": [
        "# 피보나치 수열: 첫째, 둘째 항은 1이며 그 이후의 모든 항은 바로 앞 두 항의 합인 수열임.\n",
        "# 피보나치 수열에서 세 가지 다른 방법으로 n번째 숫자를 찾는다.\n",
        "import math\n",
        "\n",
        "def find_fibonacci_seq_iter(n):   # 반복문 사용\n",
        "    if n < 2: return n\n",
        "    a, b = 0, 1\n",
        "    for i in range(n):\n",
        "        a, b = b, a+b\n",
        "    return a\n",
        "\n",
        "def find_fibonacci_seq_rec(n):      # 재귀 호출 사용\n",
        "    if n < 2: return n\n",
        "    return find_fibonacci_seq_rec(n-1) + find_fibonacci_seq_rec(n-2)\n",
        "\n",
        "def find_fibonacci_seq_form(n):     # 수식 사용\n",
        "    sq5 = math.sqrt(5)\n",
        "    phi = (1 + sq5) / 2\n",
        "    return int(math.floor(phi ** n / sq5))\n",
        "\n",
        "def test_find_fib():\n",
        "    n = 10\n",
        "    assert(find_fibonacci_seq_rec(n) == 55)\n",
        "    assert(find_fibonacci_seq_iter(n) == 55)\n",
        "    assert(find_fibonacci_seq_form(n) == 55)\n",
        "    print(\"테스트 통과!\")\n",
        "\n",
        "if __name__ == \"__main__\":\n",
        "    test_find_fib()"
      ]
    },
    {
      "cell_type": "code",
      "source": [
        ""
      ],
      "metadata": {
        "id": "tLM8lJ8OBzln"
      },
      "execution_count": null,
      "outputs": []
    }
  ]
}